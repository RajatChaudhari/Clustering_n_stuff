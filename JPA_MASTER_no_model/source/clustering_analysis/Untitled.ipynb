{
 "cells": [
  {
   "cell_type": "code",
   "execution_count": 47,
   "metadata": {},
   "outputs": [
    {
     "name": "stdout",
     "output_type": "stream",
     "text": [
      "<class 'pandas.core.frame.DataFrame'>\n",
      "RangeIndex: 4119 entries, 0 to 4118\n",
      "Data columns (total 10 columns):\n",
      "Unnamed: 0           4119 non-null int64\n",
      "Department:          4113 non-null object\n",
      "Position Title:      4112 non-null object\n",
      "POSITION SUMMARY:    3458 non-null object\n",
      "responsabilities     3815 non-null object\n",
      "EI                   2763 non-null object\n",
      "CA                   3142 non-null object\n",
      "CP                   2436 non-null object\n",
      "TS                   3385 non-null object\n",
      "family               4113 non-null object\n",
      "dtypes: int64(1), object(9)\n",
      "memory usage: 321.9+ KB\n"
     ]
    }
   ],
   "source": [
    "import pandas as pd\n",
    "\n",
    "df = pd.read_csv('famil_family.csv')\n",
    "\n",
    "df.fillna(' ')\n",
    "df.info()"
   ]
  },
  {
   "cell_type": "code",
   "execution_count": 48,
   "metadata": {},
   "outputs": [],
   "source": [
    "family=df[df['family'] != 'project plannersschedulers' ]"
   ]
  },
  {
   "cell_type": "code",
   "execution_count": 49,
   "metadata": {},
   "outputs": [
    {
     "name": "stderr",
     "output_type": "stream",
     "text": [
      "c:\\users\\rushi\\appdata\\local\\programs\\python\\python36\\lib\\site-packages\\ipykernel_launcher.py:6: SettingWithCopyWarning: \n",
      "A value is trying to be set on a copy of a slice from a DataFrame.\n",
      "Try using .loc[row_indexer,col_indexer] = value instead\n",
      "\n",
      "See the caveats in the documentation: http://pandas.pydata.org/pandas-docs/stable/indexing.html#indexing-view-versus-copy\n",
      "  \n"
     ]
    }
   ],
   "source": [
    "family_list= df['family'].unique().tolist()\n",
    "family_dict={}\n",
    "\n",
    "for i in range(len(family_list)): family_dict[family_list[i]] = i\n",
    "    \n",
    "family['label'] = df['family'].map(family_dict)\n",
    "\n",
    "\n",
    "\n"
   ]
  },
  {
   "cell_type": "code",
   "execution_count": 50,
   "metadata": {
    "scrolled": true
   },
   "outputs": [
    {
     "name": "stdout",
     "output_type": "stream",
     "text": [
      "<class 'pandas.core.frame.DataFrame'>\n",
      "Int64Index: 2053 entries, 0 to 4116\n",
      "Data columns (total 11 columns):\n",
      "Unnamed: 0           2053 non-null int64\n",
      "Department:          2047 non-null object\n",
      "Position Title:      2049 non-null object\n",
      "POSITION SUMMARY:    1693 non-null object\n",
      "responsabilities     1975 non-null object\n",
      "EI                   1467 non-null object\n",
      "CA                   1703 non-null object\n",
      "CP                   1230 non-null object\n",
      "TS                   1726 non-null object\n",
      "family               2047 non-null object\n",
      "label                2053 non-null int64\n",
      "dtypes: int64(2), object(9)\n",
      "memory usage: 192.5+ KB\n",
      "None\n"
     ]
    },
    {
     "name": "stderr",
     "output_type": "stream",
     "text": [
      "c:\\users\\rushi\\appdata\\local\\programs\\python\\python36\\lib\\site-packages\\ipykernel_launcher.py:2: SettingWithCopyWarning: \n",
      "A value is trying to be set on a copy of a slice from a DataFrame.\n",
      "Try using .loc[row_indexer,col_indexer] = value instead\n",
      "\n",
      "See the caveats in the documentation: http://pandas.pydata.org/pandas-docs/stable/indexing.html#indexing-view-versus-copy\n",
      "  \n"
     ]
    }
   ],
   "source": [
    "print(family.info())\n",
    "family['train'] = family['Department: '] + family['Position Title:'] + family['POSITION SUMMARY:'] + family['responsabilities'] + family['EI'] + family['CA'] + family['CP'] + family['TS'] "
   ]
  },
  {
   "cell_type": "code",
   "execution_count": 51,
   "metadata": {},
   "outputs": [],
   "source": [
    "family=family.dropna()"
   ]
  },
  {
   "cell_type": "code",
   "execution_count": 55,
   "metadata": {},
   "outputs": [
    {
     "name": "stdout",
     "output_type": "stream",
     "text": [
      "\n",
      "\n",
      "rare words and count:\n",
      " operationspossess       1\n",
      "heterogeneity           1\n",
      "photos                  1\n",
      "excelcreative           1\n",
      "changesproven           1\n",
      "engineeringcorrosion    1\n",
      "yrsworking              1\n",
      "deadlinesknowledge      1\n",
      "productionhusky         1\n",
      "campworkforce           1\n",
      "dtype: int64 \n",
      "\n",
      "\n"
     ]
    }
   ],
   "source": [
    "family['train']\n",
    "\n",
    "family['train'] = family['train'].apply(lambda x: \" \".join(x.lower() for x in x.split()))\n",
    "family['train'] = family['train'].str.replace('[^\\w\\s]','')\n",
    "from nltk.corpus import stopwords\n",
    "stop = stopwords.words('english')\n",
    "\n",
    "family['train'] = family['train'].apply(lambda x: \" \".join(x for x in x.split() if x not in stop))\n",
    "\n",
    "rfreq = pd.Series(' '.join(family['train']).split()).value_counts()[-10:]\n",
    "print(\"\\n\\nrare words and count:\\n\",rfreq,'\\n\\n')\n",
    "\n",
    "####\n",
    "family['train']=family['train'].apply(lambda x: \" \".join(x for x in x.split() if x not in rfreq))\n",
    "\n",
    "\n"
   ]
  },
  {
   "cell_type": "code",
   "execution_count": 57,
   "metadata": {},
   "outputs": [
    {
     "name": "stdout",
     "output_type": "stream",
     "text": [
      "cool\n",
      "(758, 15107) (189, 15107)\n"
     ]
    }
   ],
   "source": [
    "from sklearn.externals import joblib\n",
    "train=family.sample(frac=0.8,random_state=200)\n",
    "test=family.drop(train.index)\n",
    "\n",
    "train_X = train['train']\n",
    "train_Y = train['label']\n",
    "test_X =  test ['train']\n",
    "test_Y =  test['label']\n",
    "\n",
    "from sklearn.feature_extraction.text import TfidfTransformer\n",
    "from sklearn.feature_extraction.text import TfidfVectorizer\n",
    "vectorizer = TfidfVectorizer()\n",
    "train_vectors = vectorizer.fit_transform(train_X)\n",
    "print('cool')\n",
    "joblib.dump(vectorizer,'family_clf_tfidfmodel.mod')\n",
    "test_vectors = vectorizer.transform(test_X)\n",
    "\n",
    "print(train_vectors.shape, test_vectors.shape)\n",
    "\n",
    "\n"
   ]
  },
  {
   "cell_type": "code",
   "execution_count": null,
   "metadata": {},
   "outputs": [],
   "source": []
  },
  {
   "cell_type": "code",
   "execution_count": null,
   "metadata": {},
   "outputs": [],
   "source": [
    "import tensorflow as tf\n",
    "\n",
    "\n",
    "tf.app.flags.DEFINE_integer('training_iteration', 1000,\n",
    "                            'number of training iterations.')\n",
    "tf.app.flags.DEFINE_integer('model_version', 1, 'version number of the model.')\n",
    "tf.app.flags.DEFINE_string('work_dir', '/tmp', 'Working directory.')\n",
    "FLAGS = tf.app.flags.FLAGS\n",
    "\n",
    "\n",
    "def main(_):\n",
    "  if len(sys.argv) < 2 or sys.argv[-1].startswith('-'):\n",
    "    print('Usage: mnist_saved_model.py [--training_iteration=x] '\n",
    "          '[--model_version=y] export_dir')\n",
    "    sys.exit(-1)\n",
    "  if FLAGS.training_iteration <= 0:\n",
    "    print('Please specify a positive value for training iteration.')\n",
    "    sys.exit(-1)\n",
    "  if FLAGS.model_version <= 0:\n",
    "    print('Please specify a positive value for version number.')\n",
    "    sys.exit(-1)\n",
    "\n",
    "  # Train model\n",
    "  print('Training model...')\n",
    "  mnist = mnist_input_data.read_data_sets(FLAGS.work_dir, one_hot=True)\n",
    "  sess = tf.InteractiveSession()\n",
    "  serialized_tf_example = tf.placeholder(tf.string, name='tf_example')\n",
    "  feature_configs = {'x': tf.FixedLenFeature(shape=[784], dtype=tf.float32),}\n",
    "  tf_example = tf.parse_example(serialized_tf_example, feature_configs)\n",
    "  x = tf.identity(tf_example['x'], name='x')  # use tf.identity() to assign name\n",
    "  y_ = tf.placeholder('float', shape=[None, 10])\n",
    "  w = tf.Variable(tf.zeros([784, 10]))\n",
    "  b = tf.Variable(tf.zeros([10]))\n",
    "  sess.run(tf.global_variables_initializer())\n",
    "  y = tf.nn.softmax(tf.matmul(x, w) + b, name='y')\n",
    "  cross_entropy = -tf.reduce_sum(y_ * tf.log(y))\n",
    "  train_step = tf.train.GradientDescentOptimizer(0.01).minimize(cross_entropy)\n",
    "  values, indices = tf.nn.top_k(y, 10)\n",
    "  table = tf.contrib.lookup.index_to_string_table_from_tensor(\n",
    "      tf.constant([str(i) for i in range(10)]))\n",
    "  prediction_classes = table.lookup(tf.to_int64(indices))\n",
    "  for _ in range(FLAGS.training_iteration):\n",
    "    batch = mnist.train.next_batch(50)\n",
    "    train_step.run(feed_dict={x: batch[0], y_: batch[1]})\n",
    "  correct_prediction = tf.equal(tf.argmax(y, 1), tf.argmax(y_, 1))\n",
    "  accuracy = tf.reduce_mean(tf.cast(correct_prediction, 'float'))\n",
    "  print('training accuracy %g' % sess.run(\n",
    "      accuracy, feed_dict={\n",
    "          x: mnist.test.images,\n",
    "          y_: mnist.test.labels\n",
    "      }))\n",
    "  print('Done training!')\n",
    "\n",
    "  # Export model\n",
    "  # WARNING(break-tutorial-inline-code): The following code snippet is\n",
    "  # in-lined in tutorials, please update tutorial documents accordingly\n",
    "  # whenever code changes.\n",
    "  export_path_base = sys.argv[-1]\n",
    "  export_path = os.path.join(\n",
    "      tf.compat.as_bytes(export_path_base),\n",
    "      tf.compat.as_bytes(str(FLAGS.model_version)))\n",
    "  print('Exporting trained model to', export_path)\n",
    "  builder = tf.saved_model.builder.SavedModelBuilder(export_path)\n",
    "\n",
    "  # Build the signature_def_map.\n",
    "  classification_inputs = tf.saved_model.utils.build_tensor_info(\n",
    "      serialized_tf_example)\n",
    "  classification_outputs_classes = tf.saved_model.utils.build_tensor_info(\n",
    "      prediction_classes)\n",
    "  classification_outputs_scores = tf.saved_model.utils.build_tensor_info(values)\n",
    "\n",
    "  classification_signature = (\n",
    "      tf.saved_model.signature_def_utils.build_signature_def(\n",
    "          inputs={\n",
    "              tf.saved_model.signature_constants.CLASSIFY_INPUTS:\n",
    "                  classification_inputs\n",
    "          },\n",
    "          outputs={\n",
    "              tf.saved_model.signature_constants.CLASSIFY_OUTPUT_CLASSES:\n",
    "                  classification_outputs_classes,\n",
    "              tf.saved_model.signature_constants.CLASSIFY_OUTPUT_SCORES:\n",
    "                  classification_outputs_scores\n",
    "          },\n",
    "          method_name=tf.saved_model.signature_constants.CLASSIFY_METHOD_NAME))\n",
    "\n",
    "  tensor_info_x = tf.saved_model.utils.build_tensor_info(x)\n",
    "  tensor_info_y = tf.saved_model.utils.build_tensor_info(y)\n",
    "\n",
    "  prediction_signature = (\n",
    "      tf.saved_model.signature_def_utils.build_signature_def(\n",
    "          inputs={'images': tensor_info_x},\n",
    "          outputs={'scores': tensor_info_y},\n",
    "          method_name=tf.saved_model.signature_constants.PREDICT_METHOD_NAME))\n",
    "\n",
    "  builder.add_meta_graph_and_variables(\n",
    "      sess, [tf.saved_model.tag_constants.SERVING],\n",
    "      signature_def_map={\n",
    "          'predict_images':\n",
    "              prediction_signature,\n",
    "          tf.saved_model.signature_constants.DEFAULT_SERVING_SIGNATURE_DEF_KEY:\n",
    "              classification_signature,\n",
    "      },\n",
    "      main_op=tf.tables_initializer(),\n",
    "      strip_default_attrs=True)\n",
    "\n",
    "  builder.save()\n",
    "\n",
    "  print('Done exporting!')\n",
    "\n",
    "\n",
    "if __name__ == '__main__':\n",
    "  tf.app.run()"
   ]
  },
  {
   "cell_type": "code",
   "execution_count": 70,
   "metadata": {},
   "outputs": [
    {
     "name": "stdout",
     "output_type": "stream",
     "text": [
      "accuracy 0.3915343915343915\n",
      "              precision    recall  f1-score   support\n",
      "\n",
      "           0       0.00      0.00      0.00         5\n",
      "           1       1.00      0.04      0.08        24\n",
      "           3       0.94      0.48      0.64        33\n",
      "           4       0.00      0.00      0.00        17\n",
      "           5       0.00      0.00      0.00        10\n",
      "           6       0.00      0.00      0.00        10\n",
      "           8       0.28      1.00      0.44        45\n",
      "           9       0.00      0.00      0.00         8\n",
      "          10       0.00      0.00      0.00         3\n",
      "          18       1.00      0.55      0.71        22\n",
      "          20       0.00      0.00      0.00         1\n",
      "          23       0.00      0.00      0.00         4\n",
      "          35       0.00      0.00      0.00         1\n",
      "          36       0.00      0.00      0.00         1\n",
      "          37       0.00      0.00      0.00         5\n",
      "\n",
      "   micro avg       0.39      0.39      0.39       189\n",
      "   macro avg       0.21      0.14      0.12       189\n",
      "weighted avg       0.48      0.39      0.31       189\n",
      "\n"
     ]
    },
    {
     "name": "stderr",
     "output_type": "stream",
     "text": [
      "c:\\users\\rushi\\appdata\\local\\programs\\python\\python36\\lib\\site-packages\\sklearn\\metrics\\classification.py:1143: UndefinedMetricWarning: Precision and F-score are ill-defined and being set to 0.0 in labels with no predicted samples.\n",
      "  'precision', 'predicted', average, warn_for)\n"
     ]
    }
   ],
   "source": [
    "from sklearn.naive_bayes import MultinomialNB\n",
    "from sklearn.pipeline import Pipeline\n",
    "from sklearn.feature_extraction.text import CountVectorizer, TfidfVectorizer\n",
    "from sklearn.metrics import accuracy_score, confusion_matrix\n",
    "\n",
    "nb = Pipeline([('vect', CountVectorizer()),\n",
    "               ('tfidf', TfidfTransformer()),\n",
    "               ('clf', MultinomialNB()),\n",
    "              ])\n",
    "nb.fit(train_X, train_Y)\n",
    "\n",
    "joblib.dump(nb,'nb_family_classifier.model')\n",
    "\n",
    "from sklearn.metrics import classification_report\n",
    "y_pred = nb.predict(test_X)\n",
    "\n",
    "print('accuracy %s' % accuracy_score(y_pred, test_Y))\n",
    "print(classification_report(test_Y, y_pred))"
   ]
  },
  {
   "cell_type": "code",
   "execution_count": 71,
   "metadata": {},
   "outputs": [
    {
     "name": "stdout",
     "output_type": "stream",
     "text": [
      "accuracy 0.8518518518518519\n",
      "              precision    recall  f1-score   support\n",
      "\n",
      "           0       1.00      1.00      1.00         5\n",
      "           1       0.96      0.92      0.94        24\n",
      "           3       0.78      0.94      0.85        33\n",
      "           4       0.87      0.76      0.81        17\n",
      "           5       0.83      1.00      0.91        10\n",
      "           6       0.67      0.80      0.73        10\n",
      "           8       0.84      0.84      0.84        45\n",
      "           9       0.67      0.50      0.57         8\n",
      "          10       1.00      0.67      0.80         3\n",
      "          18       1.00      1.00      1.00        22\n",
      "          20       1.00      1.00      1.00         1\n",
      "          23       1.00      0.50      0.67         4\n",
      "          35       0.00      0.00      0.00         1\n",
      "          36       0.00      0.00      0.00         1\n",
      "          37       0.75      0.60      0.67         5\n",
      "\n",
      "   micro avg       0.85      0.85      0.85       189\n",
      "   macro avg       0.76      0.70      0.72       189\n",
      "weighted avg       0.85      0.85      0.84       189\n",
      "\n"
     ]
    }
   ],
   "source": [
    "from sklearn.linear_model import SGDClassifier\n",
    "\n",
    "sgd = Pipeline([('vect', CountVectorizer()),\n",
    "                ('tfidf', TfidfTransformer()),\n",
    "                ('clf', SGDClassifier(loss='hinge', penalty='l2',alpha=1e-3, random_state=42, max_iter=5, tol=None)),\n",
    "               ])\n",
    "sgd.fit(train_X, train_Y)\n",
    "\n",
    "joblib.dump(sgd,'sgd_family_classifier.model')\n",
    "\n",
    "y_pred = sgd.predict(test_X)\n",
    "\n",
    "\n",
    "print('accuracy %s' %accuracy_score(y_pred, test_Y))\n",
    "print(classification_report(test_Y, y_pred))"
   ]
  },
  {
   "cell_type": "code",
   "execution_count": 72,
   "metadata": {},
   "outputs": [
    {
     "name": "stderr",
     "output_type": "stream",
     "text": [
      "c:\\users\\rushi\\appdata\\local\\programs\\python\\python36\\lib\\site-packages\\sklearn\\linear_model\\logistic.py:432: FutureWarning: Default solver will be changed to 'lbfgs' in 0.22. Specify a solver to silence this warning.\n",
      "  FutureWarning)\n",
      "c:\\users\\rushi\\appdata\\local\\programs\\python\\python36\\lib\\site-packages\\sklearn\\linear_model\\logistic.py:459: FutureWarning: Default multi_class will be changed to 'auto' in 0.22. Specify the multi_class option to silence this warning.\n",
      "  \"this warning.\", FutureWarning)\n"
     ]
    },
    {
     "name": "stdout",
     "output_type": "stream",
     "text": [
      "accuracy 0.8465608465608465\n",
      "              precision    recall  f1-score   support\n",
      "\n",
      "           0       1.00      1.00      1.00         5\n",
      "           1       1.00      0.92      0.96        24\n",
      "           3       0.78      0.88      0.83        33\n",
      "           4       0.87      0.76      0.81        17\n",
      "           5       0.83      1.00      0.91        10\n",
      "           6       0.62      0.80      0.70        10\n",
      "           8       0.81      0.87      0.84        45\n",
      "           9       0.67      0.50      0.57         8\n",
      "          10       1.00      0.67      0.80         3\n",
      "          18       1.00      1.00      1.00        22\n",
      "          20       1.00      1.00      1.00         1\n",
      "          23       1.00      0.50      0.67         4\n",
      "          35       0.00      0.00      0.00         1\n",
      "          36       0.00      0.00      0.00         1\n",
      "          37       0.75      0.60      0.67         5\n",
      "\n",
      "   micro avg       0.85      0.85      0.85       189\n",
      "   macro avg       0.76      0.70      0.72       189\n",
      "weighted avg       0.85      0.85      0.84       189\n",
      "\n"
     ]
    }
   ],
   "source": [
    "from sklearn.linear_model import LogisticRegression\n",
    "\n",
    "logreg = Pipeline([('vect', CountVectorizer()),\n",
    "                ('tfidf', TfidfTransformer()),\n",
    "                ('clf', LogisticRegression(n_jobs=1, C=1e5)),\n",
    "               ])\n",
    "logreg.fit(train_X, train_Y)\n",
    "\n",
    "joblib.dump(logreg,'logreg_family_classifier.model')\n",
    "\n",
    "y_pred = logreg.predict(test_X)\n",
    "\n",
    "\n",
    "print('accuracy %s' % accuracy_score(y_pred, test_Y))\n",
    "print(classification_report(test_Y, y_pred))"
   ]
  },
  {
   "cell_type": "code",
   "execution_count": null,
   "metadata": {},
   "outputs": [],
   "source": []
  }
 ],
 "metadata": {
  "kernelspec": {
   "display_name": "Python 3",
   "language": "python",
   "name": "python3"
  },
  "language_info": {
   "codemirror_mode": {
    "name": "ipython",
    "version": 3
   },
   "file_extension": ".py",
   "mimetype": "text/x-python",
   "name": "python",
   "nbconvert_exporter": "python",
   "pygments_lexer": "ipython3",
   "version": "3.6.5"
  }
 },
 "nbformat": 4,
 "nbformat_minor": 2
}

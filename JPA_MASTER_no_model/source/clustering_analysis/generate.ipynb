{
 "cells": [
  {
   "cell_type": "code",
   "execution_count": 3,
   "metadata": {},
   "outputs": [],
   "source": [
    "from sklearn.externals import joblib\n",
    "from nltk.tokenize import word_tokenize\n",
    "from pandas import DataFrame, ExcelFile, read_csv, read_excel "
   ]
  },
  {
   "cell_type": "code",
   "execution_count": 4,
   "metadata": {},
   "outputs": [],
   "source": [
    "def get_taleo_database(excel_path, sheet):\n",
    "    xls = ExcelFile(excel_path, sep = ';', encoding = 'utf-8')\n",
    "    df = read_excel(xls, sheet)\n",
    "    return df"
   ]
  },
  {
   "cell_type": "code",
   "execution_count": 5,
   "metadata": {},
   "outputs": [],
   "source": [
    "def tokenize_text(text):\n",
    "    return word_tokenize(text)"
   ]
  },
  {
   "cell_type": "code",
   "execution_count": 6,
   "metadata": {},
   "outputs": [],
   "source": [
    "def transform_data_to_tfidf(texts, tfidf_model):\n",
    "    strs = []\n",
    "    for text in texts:\n",
    "        stra = tokenize_text(text)\n",
    "        stra = ' '.join(stra)\n",
    "        strs.append(stra)\n",
    "    response = tfidf_model.transform(strs)\n",
    "    return response"
   ]
  },
  {
   "cell_type": "code",
   "execution_count": 7,
   "metadata": {},
   "outputs": [],
   "source": [
    "def categorize_items(line, section, section_identifier, tfidf_model):\n",
    "    items = line.split(' - ')[1:]\n",
    "    if items:\n",
    "        items_tfidf = transform_data_to_tfidf(items, tfidf_model)\n",
    "        labels = [section_identifier.predict(items_tfidf) for item in items]\n",
    "        return ('$$$%%%&&&'.join([item for item, label in zip(items, labels[0]) if label == section]))\n",
    "    return None"
   ]
  },
  {
   "cell_type": "code",
   "execution_count": 8,
   "metadata": {},
   "outputs": [],
   "source": [
    "tfidf_model = joblib.load('tfidf_model.pkl')\n",
    "section_identifier = joblib.load('Taleo_profile_extractor.pkl')"
   ]
  },
  {
   "cell_type": "code",
   "execution_count": 9,
   "metadata": {},
   "outputs": [],
   "source": [
    "taleo_db = get_taleo_database('test_Taleo.xlsx', 'All')"
   ]
  },
  {
   "cell_type": "code",
   "execution_count": 10,
   "metadata": {},
   "outputs": [],
   "source": [
    "output_df = DataFrame()"
   ]
  },
  {
   "cell_type": "code",
   "execution_count": 11,
   "metadata": {},
   "outputs": [
    {
     "name": "stderr",
     "output_type": "stream",
     "text": [
      "c:\\users\\rushi\\appdata\\local\\programs\\python\\python36\\lib\\site-packages\\sklearn\\feature_extraction\\text.py:286: UserWarning: Your stop_words may be inconsistent with your preprocessing. Tokenizing the stop words generated tokens [\"'d\", \"'ll\", \"'re\", \"'s\", \"'ve\", 'could', 'might', 'must', \"n't\", 'need', 'sha', 'wo', 'would'] not in stop_words.\n",
      "  sorted(inconsistent))\n"
     ]
    }
   ],
   "source": [
    "output_df['Position Title:'] = taleo_db['Requisition Title']\n",
    "output_df['Department:'] = taleo_db['Job Family']\n",
    "taleo_db['External: Responsibilities'] = taleo_db['External: Responsibilities'].fillna('')\n",
    "output_df['responsabilities'] = taleo_db['External: Responsibilities'].apply(lambda x: '$$$%%%&&&'.join(x.strip().split('-')[1:]) if x else None)\n",
    "output_df['POSITION SUMMARY:'] = taleo_db['Original Description Section - External'] \n",
    "output_df['Date Revised:  (Select today’s date)'] = taleo_db['Req. Creation Date']\n",
    "taleo_db['Qualifications - External'] = taleo_db['Qualifications - External'].fillna('')\n",
    "output_df['CA'] =  taleo_db['Qualifications - External'].apply(lambda x: categorize_items(x, 'CA', section_identifier, tfidf_model))\n",
    "output_df['CA_ASSET'] = ''\n",
    "output_df['CA_REQD'] = ''\n",
    "output_df['CP'] =  taleo_db['Qualifications - External'].apply(lambda x: categorize_items(x, 'CP', section_identifier, tfidf_model))\n",
    "output_df['CP_ASSET'] = ''\n",
    "output_df['CP_REQD'] = ''\n",
    "output_df['EI'] =  taleo_db['Qualifications - External'].apply(lambda x: categorize_items(x, 'EI', section_identifier, tfidf_model))\n",
    "output_df['EI_ASSET'] = ''\n",
    "output_df['EI_REQD'] = ''\n",
    "output_df['ER'] =  taleo_db['Qualifications - External'].apply(lambda x: categorize_items(x, 'ER', section_identifier, tfidf_model))\n",
    "output_df['ER_ASSET'] = ''\n",
    "output_df['ER_REQD'] = ''\n",
    "output_df['TS'] =  taleo_db['Qualifications - External'].apply(lambda x: categorize_items(x, 'TS', section_identifier, tfidf_model))\n",
    "output_df['TS_ASSET'] = ''\n",
    "output_df['TS_REQD'] = ''\n",
    "output_df['Location (city/site):'] = ''\n",
    "output_df['Reports To (Position):'] = ''\n",
    "output_df['Safety-Sensitive:'] = ''\n",
    "output_df['Title (and #) of Direct Reports:'] = ''\n",
    "output_df['competency_group'] = ''\n",
    "output_df['Bending/Crouching:'] = ''\n",
    "output_df['Climbing:'] = ''\n",
    "output_df['Driving:'] = ''\n",
    "output_df['Keyboarding:'] = ''\n",
    "output_df['Kneeling/Crawling:'] = ''\n",
    "output_df['On-call:'] = ''\n",
    "output_df['Operating equipment:'] = ''\n",
    "output_df['Sedentary/Sitting:'] = ''\n",
    "output_df['Shift work:'] = ''\n",
    "output_df['Travel:'] = ''\n",
    "output_df['Walking:'] = ''\n",
    "output_df['Manual tools:'] = ''\n",
    "output_df['Office equipment:'] = ''\n",
    "output_df['Pneumatic tools:'] = ''\n",
    "output_df['Power tools:'] = ''\n",
    "output_df['Shop tools:'] = ''\n",
    "output_df['Tool belt worn:'] = ''\n",
    "output_df['Vibration tools:'] = ''\n",
    "output_df['Welding:'] = ''\n",
    "output_df[' Extreme heat/cold:'] = ''\n",
    "output_df['Chemicals:'] = ''\n",
    "output_df['Confined spaces:'] = ''\n",
    "output_df['Heights:'] = ''\n",
    "output_df['Moving equipment:'] = ''\n",
    "output_df['Night time:'] = ''\n",
    "output_df['Noise:'] = ''\n",
    "output_df['Outdoors:'] = ''\n",
    "output_df['Rotating equipment:'] = ''\n",
    "output_df['Toxic gases:'] = ''\n",
    "output_df['Uneven surfaces:'] = ''\n",
    "output_df['Wet or damp:'] = ''\n",
    "output_df['Light 11-20 pounds:'] = ''\n",
    "output_df['Medium 21-50 pounds:'] = ''\n",
    "output_df['Sedentary 0-10 pounds:'] = ''\n",
    "output_df['Carrying:'] = ''\n",
    "output_df['Lifting:'] = ''\n",
    "output_df['Pushing/pulling:'] = ''\n",
    "output_df['Standing:'] = ''"
   ]
  },
  {
   "cell_type": "code",
   "execution_count": 10,
   "metadata": {},
   "outputs": [],
   "source": [
    "output_df.to_csv('raw_database.csv')"
   ]
  },
  {
   "cell_type": "code",
   "execution_count": 11,
   "metadata": {},
   "outputs": [
    {
     "data": {
      "text/plain": [
       "Index(['Position Title:', 'Department:', 'responsabilities',\n",
       "       'POSITION SUMMARY:', 'Date Revised:  (Select today’s date)', 'CA',\n",
       "       'CA_ASSET', 'CA_REQD', 'CP', 'CP_ASSET', 'CP_REQD', 'EI', 'EI_ASSET',\n",
       "       'EI_REQD', 'ER', 'ER_ASSET', 'ER_REQD', 'TS', 'TS_ASSET', 'TS_REQD',\n",
       "       'Location (city/site):', 'Reports To (Position):', 'Safety-Sensitive:',\n",
       "       'Title (and #) of Direct Reports:', 'competency_group',\n",
       "       'Bending/Crouching:', 'Climbing:', 'Driving:', 'Keyboarding:',\n",
       "       'Kneeling/Crawling:', 'On-call:', 'Operating equipment:',\n",
       "       'Sedentary/Sitting:', 'Shift work:', 'Travel:', 'Walking:',\n",
       "       'Manual tools:', 'Office equipment:', 'Pneumatic tools:',\n",
       "       'Power tools:', 'Shop tools:', 'Tool belt worn:', 'Vibration tools:',\n",
       "       'Welding:', ' Extreme heat/cold:', 'Chemicals:', 'Confined spaces:',\n",
       "       'Heights:', 'Moving equipment:', 'Night time:', 'Noise:', 'Outdoors:',\n",
       "       'Rotating equipment:', 'Toxic gases:', 'Uneven surfaces:',\n",
       "       'Wet or damp:', 'Light 11-20 pounds:', 'Medium 21-50 pounds:',\n",
       "       'Sedentary 0-10 pounds:', 'Carrying:', 'Lifting:', 'Pushing/pulling:',\n",
       "       'Standing:'],\n",
       "      dtype='object')"
      ]
     },
     "execution_count": 11,
     "metadata": {},
     "output_type": "execute_result"
    }
   ],
   "source": [
    "output_df.columns"
   ]
  },
  {
   "cell_type": "code",
   "execution_count": 1,
   "metadata": {},
   "outputs": [],
   "source": [
    "from csvprofiles_struct import jp_to_struct\n",
    "from pandas import read_excel\n",
    "taleo_db = read_excel('test_Taleo.xlsx', 'All')"
   ]
  },
  {
   "cell_type": "code",
   "execution_count": 2,
   "metadata": {},
   "outputs": [
    {
     "ename": "AttributeError",
     "evalue": "module '__main__' has no attribute 'tokenize_text'",
     "output_type": "error",
     "traceback": [
      "\u001b[1;31m---------------------------------------------------------------------------\u001b[0m",
      "\u001b[1;31mAttributeError\u001b[0m                            Traceback (most recent call last)",
      "\u001b[1;32m<ipython-input-2-f500bf9024d0>\u001b[0m in \u001b[0;36m<module>\u001b[1;34m\u001b[0m\n\u001b[0;32m      1\u001b[0m \u001b[1;33m\u001b[0m\u001b[0m\n\u001b[1;32m----> 2\u001b[1;33m \u001b[0mconvertor\u001b[0m \u001b[1;33m=\u001b[0m \u001b[0mjp_to_struct\u001b[0m\u001b[1;33m(\u001b[0m\u001b[1;33m)\u001b[0m\u001b[1;33m\u001b[0m\u001b[0m\n\u001b[0m\u001b[0;32m      3\u001b[0m \u001b[0mprint\u001b[0m\u001b[1;33m(\u001b[0m\u001b[0mconvertor\u001b[0m\u001b[1;33m.\u001b[0m\u001b[0mto_struct\u001b[0m\u001b[1;33m(\u001b[0m\u001b[0mtaleo_db\u001b[0m\u001b[1;33m)\u001b[0m\u001b[1;33m)\u001b[0m\u001b[1;33m\u001b[0m\u001b[0m\n",
      "\u001b[1;32m~\\Desktop\\JPA\\csvprofiles_struct.py\u001b[0m in \u001b[0;36m__init__\u001b[1;34m(self)\u001b[0m\n\u001b[0;32m      4\u001b[0m \u001b[1;32mclass\u001b[0m \u001b[0mjp_to_struct\u001b[0m\u001b[1;33m:\u001b[0m\u001b[1;33m\u001b[0m\u001b[0m\n\u001b[0;32m      5\u001b[0m     \u001b[1;32mdef\u001b[0m \u001b[0m__init__\u001b[0m\u001b[1;33m(\u001b[0m\u001b[0mself\u001b[0m\u001b[1;33m)\u001b[0m\u001b[1;33m:\u001b[0m\u001b[1;33m\u001b[0m\u001b[0m\n\u001b[1;32m----> 6\u001b[1;33m         \u001b[0mself\u001b[0m\u001b[1;33m.\u001b[0m\u001b[0mtfidf_model\u001b[0m \u001b[1;33m=\u001b[0m \u001b[0mjoblib\u001b[0m\u001b[1;33m.\u001b[0m\u001b[0mload\u001b[0m\u001b[1;33m(\u001b[0m\u001b[1;34m'tfidf_model.pkl'\u001b[0m\u001b[1;33m)\u001b[0m\u001b[1;33m\u001b[0m\u001b[0m\n\u001b[0m\u001b[0;32m      7\u001b[0m         \u001b[0mself\u001b[0m\u001b[1;33m.\u001b[0m\u001b[0msection_identifier\u001b[0m \u001b[1;33m=\u001b[0m \u001b[0mjoblib\u001b[0m\u001b[1;33m.\u001b[0m\u001b[0mload\u001b[0m\u001b[1;33m(\u001b[0m\u001b[1;34m'Taleo_profile_extractor.pkl'\u001b[0m\u001b[1;33m)\u001b[0m\u001b[1;33m\u001b[0m\u001b[0m\n\u001b[0;32m      8\u001b[0m         self.working_conditions =  ['CA_ASSET','CA_REQD','CP_ASSET','CP_REQD','EI_ASSET','EI_REQD','ER_ASSET','ER_REQD','TS_ASSET','TS_REQD',\n",
      "\u001b[1;32mc:\\users\\rushi\\appdata\\local\\programs\\python\\python36\\lib\\site-packages\\sklearn\\externals\\joblib\\numpy_pickle.py\u001b[0m in \u001b[0;36mload\u001b[1;34m(filename, mmap_mode)\u001b[0m\n\u001b[0;32m    596\u001b[0m                     \u001b[1;32mreturn\u001b[0m \u001b[0mload_compatibility\u001b[0m\u001b[1;33m(\u001b[0m\u001b[0mfobj\u001b[0m\u001b[1;33m)\u001b[0m\u001b[1;33m\u001b[0m\u001b[0m\n\u001b[0;32m    597\u001b[0m \u001b[1;33m\u001b[0m\u001b[0m\n\u001b[1;32m--> 598\u001b[1;33m                 \u001b[0mobj\u001b[0m \u001b[1;33m=\u001b[0m \u001b[0m_unpickle\u001b[0m\u001b[1;33m(\u001b[0m\u001b[0mfobj\u001b[0m\u001b[1;33m,\u001b[0m \u001b[0mfilename\u001b[0m\u001b[1;33m,\u001b[0m \u001b[0mmmap_mode\u001b[0m\u001b[1;33m)\u001b[0m\u001b[1;33m\u001b[0m\u001b[0m\n\u001b[0m\u001b[0;32m    599\u001b[0m \u001b[1;33m\u001b[0m\u001b[0m\n\u001b[0;32m    600\u001b[0m     \u001b[1;32mreturn\u001b[0m \u001b[0mobj\u001b[0m\u001b[1;33m\u001b[0m\u001b[0m\n",
      "\u001b[1;32mc:\\users\\rushi\\appdata\\local\\programs\\python\\python36\\lib\\site-packages\\sklearn\\externals\\joblib\\numpy_pickle.py\u001b[0m in \u001b[0;36m_unpickle\u001b[1;34m(fobj, filename, mmap_mode)\u001b[0m\n\u001b[0;32m    524\u001b[0m     \u001b[0mobj\u001b[0m \u001b[1;33m=\u001b[0m \u001b[1;32mNone\u001b[0m\u001b[1;33m\u001b[0m\u001b[0m\n\u001b[0;32m    525\u001b[0m     \u001b[1;32mtry\u001b[0m\u001b[1;33m:\u001b[0m\u001b[1;33m\u001b[0m\u001b[0m\n\u001b[1;32m--> 526\u001b[1;33m         \u001b[0mobj\u001b[0m \u001b[1;33m=\u001b[0m \u001b[0munpickler\u001b[0m\u001b[1;33m.\u001b[0m\u001b[0mload\u001b[0m\u001b[1;33m(\u001b[0m\u001b[1;33m)\u001b[0m\u001b[1;33m\u001b[0m\u001b[0m\n\u001b[0m\u001b[0;32m    527\u001b[0m         \u001b[1;32mif\u001b[0m \u001b[0munpickler\u001b[0m\u001b[1;33m.\u001b[0m\u001b[0mcompat_mode\u001b[0m\u001b[1;33m:\u001b[0m\u001b[1;33m\u001b[0m\u001b[0m\n\u001b[0;32m    528\u001b[0m             warnings.warn(\"The file '%s' has been generated with a \"\n",
      "\u001b[1;32mc:\\users\\rushi\\appdata\\local\\programs\\python\\python36\\lib\\pickle.py\u001b[0m in \u001b[0;36mload\u001b[1;34m(self)\u001b[0m\n\u001b[0;32m   1048\u001b[0m                     \u001b[1;32mraise\u001b[0m \u001b[0mEOFError\u001b[0m\u001b[1;33m\u001b[0m\u001b[0m\n\u001b[0;32m   1049\u001b[0m                 \u001b[1;32massert\u001b[0m \u001b[0misinstance\u001b[0m\u001b[1;33m(\u001b[0m\u001b[0mkey\u001b[0m\u001b[1;33m,\u001b[0m \u001b[0mbytes_types\u001b[0m\u001b[1;33m)\u001b[0m\u001b[1;33m\u001b[0m\u001b[0m\n\u001b[1;32m-> 1050\u001b[1;33m                 \u001b[0mdispatch\u001b[0m\u001b[1;33m[\u001b[0m\u001b[0mkey\u001b[0m\u001b[1;33m[\u001b[0m\u001b[1;36m0\u001b[0m\u001b[1;33m]\u001b[0m\u001b[1;33m]\u001b[0m\u001b[1;33m(\u001b[0m\u001b[0mself\u001b[0m\u001b[1;33m)\u001b[0m\u001b[1;33m\u001b[0m\u001b[0m\n\u001b[0m\u001b[0;32m   1051\u001b[0m         \u001b[1;32mexcept\u001b[0m \u001b[0m_Stop\u001b[0m \u001b[1;32mas\u001b[0m \u001b[0mstopinst\u001b[0m\u001b[1;33m:\u001b[0m\u001b[1;33m\u001b[0m\u001b[0m\n\u001b[0;32m   1052\u001b[0m             \u001b[1;32mreturn\u001b[0m \u001b[0mstopinst\u001b[0m\u001b[1;33m.\u001b[0m\u001b[0mvalue\u001b[0m\u001b[1;33m\u001b[0m\u001b[0m\n",
      "\u001b[1;32mc:\\users\\rushi\\appdata\\local\\programs\\python\\python36\\lib\\pickle.py\u001b[0m in \u001b[0;36mload_global\u001b[1;34m(self)\u001b[0m\n\u001b[0;32m   1336\u001b[0m         \u001b[0mmodule\u001b[0m \u001b[1;33m=\u001b[0m \u001b[0mself\u001b[0m\u001b[1;33m.\u001b[0m\u001b[0mreadline\u001b[0m\u001b[1;33m(\u001b[0m\u001b[1;33m)\u001b[0m\u001b[1;33m[\u001b[0m\u001b[1;33m:\u001b[0m\u001b[1;33m-\u001b[0m\u001b[1;36m1\u001b[0m\u001b[1;33m]\u001b[0m\u001b[1;33m.\u001b[0m\u001b[0mdecode\u001b[0m\u001b[1;33m(\u001b[0m\u001b[1;34m\"utf-8\"\u001b[0m\u001b[1;33m)\u001b[0m\u001b[1;33m\u001b[0m\u001b[0m\n\u001b[0;32m   1337\u001b[0m         \u001b[0mname\u001b[0m \u001b[1;33m=\u001b[0m \u001b[0mself\u001b[0m\u001b[1;33m.\u001b[0m\u001b[0mreadline\u001b[0m\u001b[1;33m(\u001b[0m\u001b[1;33m)\u001b[0m\u001b[1;33m[\u001b[0m\u001b[1;33m:\u001b[0m\u001b[1;33m-\u001b[0m\u001b[1;36m1\u001b[0m\u001b[1;33m]\u001b[0m\u001b[1;33m.\u001b[0m\u001b[0mdecode\u001b[0m\u001b[1;33m(\u001b[0m\u001b[1;34m\"utf-8\"\u001b[0m\u001b[1;33m)\u001b[0m\u001b[1;33m\u001b[0m\u001b[0m\n\u001b[1;32m-> 1338\u001b[1;33m         \u001b[0mklass\u001b[0m \u001b[1;33m=\u001b[0m \u001b[0mself\u001b[0m\u001b[1;33m.\u001b[0m\u001b[0mfind_class\u001b[0m\u001b[1;33m(\u001b[0m\u001b[0mmodule\u001b[0m\u001b[1;33m,\u001b[0m \u001b[0mname\u001b[0m\u001b[1;33m)\u001b[0m\u001b[1;33m\u001b[0m\u001b[0m\n\u001b[0m\u001b[0;32m   1339\u001b[0m         \u001b[0mself\u001b[0m\u001b[1;33m.\u001b[0m\u001b[0mappend\u001b[0m\u001b[1;33m(\u001b[0m\u001b[0mklass\u001b[0m\u001b[1;33m)\u001b[0m\u001b[1;33m\u001b[0m\u001b[0m\n\u001b[0;32m   1340\u001b[0m     \u001b[0mdispatch\u001b[0m\u001b[1;33m[\u001b[0m\u001b[0mGLOBAL\u001b[0m\u001b[1;33m[\u001b[0m\u001b[1;36m0\u001b[0m\u001b[1;33m]\u001b[0m\u001b[1;33m]\u001b[0m \u001b[1;33m=\u001b[0m \u001b[0mload_global\u001b[0m\u001b[1;33m\u001b[0m\u001b[0m\n",
      "\u001b[1;32mc:\\users\\rushi\\appdata\\local\\programs\\python\\python36\\lib\\pickle.py\u001b[0m in \u001b[0;36mfind_class\u001b[1;34m(self, module, name)\u001b[0m\n\u001b[0;32m   1390\u001b[0m             \u001b[1;32mreturn\u001b[0m \u001b[0m_getattribute\u001b[0m\u001b[1;33m(\u001b[0m\u001b[0msys\u001b[0m\u001b[1;33m.\u001b[0m\u001b[0mmodules\u001b[0m\u001b[1;33m[\u001b[0m\u001b[0mmodule\u001b[0m\u001b[1;33m]\u001b[0m\u001b[1;33m,\u001b[0m \u001b[0mname\u001b[0m\u001b[1;33m)\u001b[0m\u001b[1;33m[\u001b[0m\u001b[1;36m0\u001b[0m\u001b[1;33m]\u001b[0m\u001b[1;33m\u001b[0m\u001b[0m\n\u001b[0;32m   1391\u001b[0m         \u001b[1;32melse\u001b[0m\u001b[1;33m:\u001b[0m\u001b[1;33m\u001b[0m\u001b[0m\n\u001b[1;32m-> 1392\u001b[1;33m             \u001b[1;32mreturn\u001b[0m \u001b[0mgetattr\u001b[0m\u001b[1;33m(\u001b[0m\u001b[0msys\u001b[0m\u001b[1;33m.\u001b[0m\u001b[0mmodules\u001b[0m\u001b[1;33m[\u001b[0m\u001b[0mmodule\u001b[0m\u001b[1;33m]\u001b[0m\u001b[1;33m,\u001b[0m \u001b[0mname\u001b[0m\u001b[1;33m)\u001b[0m\u001b[1;33m\u001b[0m\u001b[0m\n\u001b[0m\u001b[0;32m   1393\u001b[0m \u001b[1;33m\u001b[0m\u001b[0m\n\u001b[0;32m   1394\u001b[0m     \u001b[1;32mdef\u001b[0m \u001b[0mload_reduce\u001b[0m\u001b[1;33m(\u001b[0m\u001b[0mself\u001b[0m\u001b[1;33m)\u001b[0m\u001b[1;33m:\u001b[0m\u001b[1;33m\u001b[0m\u001b[0m\n",
      "\u001b[1;31mAttributeError\u001b[0m: module '__main__' has no attribute 'tokenize_text'"
     ]
    }
   ],
   "source": [
    "\n",
    "convertor = jp_to_struct()\n",
    "print(convertor.to_struct(taleo_db))\n"
   ]
  },
  {
   "cell_type": "code",
   "execution_count": null,
   "metadata": {},
   "outputs": [],
   "source": []
  },
  {
   "cell_type": "code",
   "execution_count": null,
   "metadata": {},
   "outputs": [],
   "source": []
  }
 ],
 "metadata": {
  "kernelspec": {
   "display_name": "Python 3",
   "language": "python",
   "name": "python3"
  },
  "language_info": {
   "codemirror_mode": {
    "name": "ipython",
    "version": 3
   },
   "file_extension": ".py",
   "mimetype": "text/x-python",
   "name": "python",
   "nbconvert_exporter": "python",
   "pygments_lexer": "ipython3",
   "version": "3.6.5"
  }
 },
 "nbformat": 4,
 "nbformat_minor": 2
}

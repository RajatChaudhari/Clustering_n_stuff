{
 "cells": [
  {
   "cell_type": "code",
   "execution_count": 1,
   "metadata": {},
   "outputs": [
    {
     "name": "stdout",
     "output_type": "stream",
     "text": [
      "<class 'pandas.core.frame.DataFrame'>\n",
      "RangeIndex: 1795 entries, 0 to 1794\n",
      "Data columns (total 76 columns):\n",
      "Name                          0 non-null float64\n",
      "Last Name                     0 non-null float64\n",
      "First Name                    0 non-null float64\n",
      "Nickname (Known As)           0 non-null float64\n",
      "Date of Birth                 0 non-null float64\n",
      "Adjusted Service Date         0 non-null float64\n",
      "First Working Day             0 non-null float64\n",
      "Vacation Service Date         0 non-null float64\n",
      "Personnel Subarea             1795 non-null object\n",
      "Personnel Area                1795 non-null object\n",
      "Country Grouping              1795 non-null object\n",
      "Unnamed: 11                   0 non-null float64\n",
      "Pay Grade                     0 non-null float64\n",
      "Pay Scale Group               0 non-null float64\n",
      "Annual Salary                 0 non-null float64\n",
      "Employment Percent            1795 non-null object\n",
      "Manager (Chief) #             1795 non-null int64\n",
      "Manager (Chief)               0 non-null float64\n",
      "Master Cost Center #          1795 non-null int64\n",
      "Master Cost Center            1795 non-null object\n",
      "Company code                  1795 non-null int64\n",
      "Company code #                1795 non-null object\n",
      "Gender                        0 non-null float64\n",
      "HR Business Partner           0 non-null float64\n",
      "Organizational Unit #         1795 non-null int64\n",
      "Husky Level                   1795 non-null object\n",
      "Organizational Unit           1795 non-null object\n",
      "Job #                         1795 non-null int64\n",
      "Job                           1795 non-null object\n",
      "Position                      1795 non-null int64\n",
      "Proposed job                  1795 non-null object\n",
      "Job Profile                   1795 non-null object\n",
      "Position #                    1795 non-null object\n",
      "Job Family                    1795 non-null object\n",
      "Job Family #                  1795 non-null int64\n",
      "Functional Area               1795 non-null object\n",
      "Primary Survey Match          864 non-null object\n",
      "Employee Group (Position)     1795 non-null object\n",
      "Employee Group (Person)       1795 non-null object\n",
      "Employee Subgroup (Person)    1795 non-null object\n",
      "Employment Status             1795 non-null object\n",
      "Number of Employees           1795 non-null int64\n",
      "Combination                   1795 non-null object\n",
      "Level 1                       1795 non-null object\n",
      "Level 2                       1795 non-null object\n",
      "Chief                         1795 non-null object\n",
      "Vacancy Type                  1795 non-null object\n",
      "BU                            1795 non-null object\n",
      "BU-1                          1795 non-null object\n",
      "BU-2                          1783 non-null object\n",
      "BU-3                          1710 non-null object\n",
      "BU-4                          1435 non-null object\n",
      "BU-5                          1097 non-null object\n",
      "BU-6                          44 non-null object\n",
      "BU-7                          44 non-null object\n",
      "BU-8                          11 non-null object\n",
      "BU-9                          0 non-null float64\n",
      "BU #                          1795 non-null object\n",
      "BU # -1                       1795 non-null object\n",
      "BU # -2                       1783 non-null float64\n",
      "BU # -3                       1710 non-null float64\n",
      "BU # -4                       1435 non-null float64\n",
      "BU # -5                       1097 non-null float64\n",
      "BU # -6                       345 non-null float64\n",
      "BU # -7                       44 non-null float64\n",
      "BU # -8                       11 non-null float64\n",
      "BU # -9                       0 non-null float64\n",
      "SVP                           1795 non-null object\n",
      "SVP-1                         1795 non-null object\n",
      "SVP-2                         1783 non-null object\n",
      "SVP-3                         1710 non-null object\n",
      "SVP-4                         1435 non-null object\n",
      "Safety Sensitive Y/N          0 non-null float64\n",
      "Safety Statement              0 non-null float64\n",
      "Competency Level              104 non-null object\n",
      "Working Conditions            0 non-null float64\n",
      "dtypes: float64(27), int64(8), object(41)\n",
      "memory usage: 1.0+ MB\n",
      "None\n",
      "<class 'pandas.core.frame.DataFrame'>\n",
      "Int64Index: 104 entries, 0 to 103\n",
      "Data columns (total 4 columns):\n",
      "Job Family         104 non-null object\n",
      "Functional Area    104 non-null object\n",
      "Position #         104 non-null object\n",
      "Job Profile        104 non-null object\n",
      "dtypes: object(4)\n",
      "memory usage: 4.1+ KB\n",
      "None\n",
      "^^^^^ Human Resources:  104\n",
      "HR Mgr, Benefits:  1\n",
      "HR Mgr, Payroll:  1\n",
      "HR Analyst/Advisor, Talent Acquisition:  13\n",
      "HR Mgr, Business Partner:  2\n",
      "HR Analyst, Workforce Planning:  1\n",
      "HR Analyst/Advisor, Compensation:  4\n",
      "HR Advisor, Global Mobility:  2\n",
      "HR Vice President:  1\n",
      "HR Analyst/Advisor, Shared Services:  10\n",
      "HR Analyst/Advisor, Payroll:  8\n",
      "HR Mgr, Diversity & Inclusion:  1\n",
      "HR Analyst/Advisor, Organizational Effectiveness, Competency or LMS:  11\n",
      "HR Business Partner:  11\n",
      "HR Manager:  7\n",
      "HR Mgr, Organizational Effectiveness or Competency and LMS:  2\n",
      "HR Mgr, Compensation:  1\n",
      "HR Advisor, Business Process:  1\n",
      "HR Team Lead:  4\n",
      "Occupational Health Nurse:  2\n",
      "HR Mgr, Workforce Planning:  1\n",
      "HR Analyst/Advisor, Benefits:  5\n",
      "Analyst/Advisor, Training:  7\n",
      "Team Lead, Training and Competency:  2\n",
      "HR Mgr, Talent Acquisition and Global Mobility:  1\n",
      "HR Mgr, Shared Services:  1\n",
      "HR Director:  4\n",
      "624 624\n",
      "44444                                             features  \\\n",
      "0  hr advisors (us)human resourceshr advisor, tra...   \n",
      "1  hr advisorshuman resourcessr tech training & c...   \n",
      "2      hr advisorshuman resourcessr training advisor   \n",
      "\n",
      "                      labels  \n",
      "0  Analyst/Advisor, Training  \n",
      "1  Analyst/Advisor, Training  \n",
      "2  Analyst/Advisor, Training  \n",
      "HR Mgr, Benefits\n",
      "^^^^^ HR Mgr, Benefits:  6\n",
      "HR Mgr, Payroll\n",
      "^^^^^ HR Mgr, Payroll:  6\n",
      "HR Analyst/Advisor, Talent Acquisition\n",
      "^^^^^ HR Analyst/Advisor, Talent Acquisition:  78\n",
      "HR Mgr, Business Partner\n",
      "^^^^^ HR Mgr, Business Partner:  12\n",
      "HR Analyst, Workforce Planning\n",
      "^^^^^ HR Analyst, Workforce Planning:  6\n",
      "HR Analyst/Advisor, Compensation\n",
      "^^^^^ HR Analyst/Advisor, Compensation:  24\n",
      "HR Advisor, Global Mobility\n",
      "^^^^^ HR Advisor, Global Mobility:  12\n",
      "HR Vice President\n",
      "^^^^^ HR Vice President:  6\n",
      "HR Analyst/Advisor, Shared Services\n",
      "^^^^^ HR Analyst/Advisor, Shared Services:  60\n",
      "HR Analyst/Advisor, Payroll\n",
      "^^^^^ HR Analyst/Advisor, Payroll:  48\n",
      "HR Mgr, Diversity & Inclusion\n",
      "^^^^^ HR Mgr, Diversity & Inclusion:  6\n",
      "HR Analyst/Advisor, Organizational Effectiveness, Competency or LMS\n",
      "^^^^^ HR Analyst/Advisor, Organizational Effectiveness, Competency or LMS:  66\n",
      "HR Business Partner\n",
      "^^^^^ HR Business Partner:  66\n",
      "HR Manager\n",
      "^^^^^ HR Manager:  42\n",
      "HR Mgr, Organizational Effectiveness or Competency and LMS\n",
      "^^^^^ HR Mgr, Organizational Effectiveness or Competency and LMS:  12\n",
      "HR Mgr, Compensation\n",
      "^^^^^ HR Mgr, Compensation:  6\n",
      "HR Advisor, Business Process\n",
      "^^^^^ HR Advisor, Business Process:  6\n",
      "HR Team Lead\n",
      "^^^^^ HR Team Lead:  24\n",
      "Occupational Health Nurse\n",
      "^^^^^ Occupational Health Nurse:  12\n",
      "HR Mgr, Workforce Planning\n",
      "^^^^^ HR Mgr, Workforce Planning:  6\n",
      "HR Analyst/Advisor, Benefits\n",
      "^^^^^ HR Analyst/Advisor, Benefits:  30\n",
      "Analyst/Advisor, Training\n",
      "^^^^^ Analyst/Advisor, Training:  42\n",
      "Team Lead, Training and Competency\n",
      "^^^^^ Team Lead, Training and Competency:  12\n",
      "HR Mgr, Talent Acquisition and Global Mobility\n",
      "^^^^^ HR Mgr, Talent Acquisition and Global Mobility:  6\n",
      "HR Mgr, Shared Services\n",
      "^^^^^ HR Mgr, Shared Services:  6\n",
      "HR Director\n",
      "^^^^^ HR Director:  24\n"
     ]
    }
   ],
   "source": [
    "import pandas as pd\n",
    "data = pd.read_excel(\"Target Profile Data - HR, Accounting, Ops - Updated.xlsx\")\n",
    "print(data.info())\n",
    "data=data[['Job Family','Functional Area','Position #','Job Profile']]\n",
    "data=data[data['Functional Area'] == \"Human Resources\"]\n",
    "data=data.dropna()\n",
    "print(data.info())\n",
    "data.head(5)\n",
    "\n",
    "for i in set(data['Functional Area']):\n",
    "    print(\"^^^^^\",i + \": \",len(data[data['Functional Area'] == i]))\n",
    "    for i in set(data[data['Functional Area'] == i]['Job Profile']):\n",
    "        print(i + \": \",len(data[data['Job Profile'] == i]))\n",
    "\n",
    "\n",
    "features=[]\n",
    "labels=[]               \n",
    "features.extend(list(data[['Job Family','Functional Area','Position #']].apply(lambda x: ''.join(x), axis=1).values))              \n",
    "labels.extend(list(data[['Job Profile']].apply(lambda x: ''.join(x), axis=1).values))\n",
    "features.extend(list(data[['Job Family','Position #']].apply(lambda x: ''.join(x), axis=1).values))              \n",
    "labels.extend(list(data[['Job Profile']].apply(lambda x: ''.join(x), axis=1).values))\n",
    "features.extend(list(data[['Functional Area','Position #']].apply(lambda x: ''.join(x), axis=1).values))              \n",
    "labels.extend(list(data[['Job Profile']].apply(lambda x: ''.join(x), axis=1).values))\n",
    "features.extend(list(data[['Job Profile']].apply(lambda x: ''.join(x), axis=1).values))              \n",
    "labels.extend(list(data[['Job Profile']].apply(lambda x: ''.join(x), axis=1).values))\n",
    "features.extend(list(data[['Job Profile','Position #']].apply(lambda x: ''.join(x), axis=1).values))              \n",
    "labels.extend(list(data[['Job Profile']].apply(lambda x: ''.join(x), axis=1).values))\n",
    "features.extend(list(data[['Position #']].apply(lambda x: ''.join(x), axis=1).values))              \n",
    "labels.extend(list(data[['Job Profile']].apply(lambda x: ''.join(x), axis=1).values))\n",
    "\n",
    "print(len(features),len(labels))\n",
    "dfa=pd.DataFrame({\"features\":[i.lower() for i in features],\"labels\":labels})\n",
    "print(\"44444\",dfa.head(3))\n",
    "for i in set(dfa['labels']):\n",
    "    print(i)\n",
    "    print(\"^^^^^\",i + \": \",len(dfa[dfa['labels']== i]))\n",
    "    \n"
   ]
  },
  {
   "cell_type": "code",
   "execution_count": null,
   "metadata": {},
   "outputs": [],
   "source": []
  },
  {
   "cell_type": "code",
   "execution_count": 2,
   "metadata": {},
   "outputs": [
    {
     "name": "stdout",
     "output_type": "stream",
     "text": [
      "[nltk_data] Downloading package wordnet to\n",
      "[nltk_data]     C:\\Users\\r.ishwar.chaudhari\\AppData\\Roaming\\nltk_data.\n",
      "[nltk_data]     ..\n",
      "[nltk_data]   Package wordnet is already up-to-date!\n",
      "[nltk_data] Downloading package punkt to\n",
      "[nltk_data]     C:\\Users\\r.ishwar.chaudhari\\AppData\\Roaming\\nltk_data.\n",
      "[nltk_data]     ..\n",
      "[nltk_data]   Package punkt is already up-to-date!\n"
     ]
    }
   ],
   "source": [
    "import nltk\n",
    "import numpy as np\n",
    "nltk.download('wordnet')\n",
    "nltk.download('punkt')\n",
    "\n",
    "from nltk.corpus import stopwords\n",
    "stop = stopwords.words('english')"
   ]
  },
  {
   "cell_type": "code",
   "execution_count": 3,
   "metadata": {},
   "outputs": [
    {
     "name": "stderr",
     "output_type": "stream",
     "text": [
      "C:\\D\\Installation\\Anaconda3\\lib\\site-packages\\sklearn\\ensemble\\weight_boosting.py:29: DeprecationWarning: numpy.core.umath_tests is an internal NumPy module and should not be imported. It will be removed in a future NumPy release.\n",
      "  from numpy.core.umath_tests import inner1d\n"
     ]
    }
   ],
   "source": [
    "import pandas as pd\n",
    "from nltk.corpus import stopwords\n",
    "from sklearn.feature_extraction.text import TfidfTransformer\n",
    "from sklearn.feature_extraction.text import TfidfVectorizer\n",
    "from sklearn.naive_bayes import MultinomialNB\n",
    "from sklearn.pipeline import Pipeline\n",
    "from sklearn.feature_extraction.text import CountVectorizer, TfidfVectorizer,TfidfTransformer\n",
    "from sklearn.metrics import accuracy_score, confusion_matrix\n",
    "from sklearn.linear_model import SGDClassifier\n",
    "from sklearn.ensemble  import RandomForestClassifier\n",
    "from sklearn.externals import joblib\n",
    "from sklearn.ensemble import  GradientBoostingClassifier"
   ]
  },
  {
   "cell_type": "code",
   "execution_count": 4,
   "metadata": {},
   "outputs": [
    {
     "data": {
      "text/html": [
       "<div>\n",
       "<style scoped>\n",
       "    .dataframe tbody tr th:only-of-type {\n",
       "        vertical-align: middle;\n",
       "    }\n",
       "\n",
       "    .dataframe tbody tr th {\n",
       "        vertical-align: top;\n",
       "    }\n",
       "\n",
       "    .dataframe thead th {\n",
       "        text-align: right;\n",
       "    }\n",
       "</style>\n",
       "<table border=\"1\" class=\"dataframe\">\n",
       "  <thead>\n",
       "    <tr style=\"text-align: right;\">\n",
       "      <th></th>\n",
       "      <th>features</th>\n",
       "      <th>labels</th>\n",
       "    </tr>\n",
       "  </thead>\n",
       "  <tbody>\n",
       "    <tr>\n",
       "      <th>0</th>\n",
       "      <td>hr advisors (us)human resourceshr advisor, tra...</td>\n",
       "      <td>Analyst/Advisor, Training</td>\n",
       "    </tr>\n",
       "    <tr>\n",
       "      <th>1</th>\n",
       "      <td>hr advisorshuman resourcessr tech training &amp; c...</td>\n",
       "      <td>Analyst/Advisor, Training</td>\n",
       "    </tr>\n",
       "    <tr>\n",
       "      <th>2</th>\n",
       "      <td>hr advisorshuman resourcessr training advisor</td>\n",
       "      <td>Analyst/Advisor, Training</td>\n",
       "    </tr>\n",
       "    <tr>\n",
       "      <th>3</th>\n",
       "      <td>hr advisorshuman resourcesoperations training ...</td>\n",
       "      <td>Analyst/Advisor, Training</td>\n",
       "    </tr>\n",
       "    <tr>\n",
       "      <th>4</th>\n",
       "      <td>hr advisorshuman resourcesretail &amp; commercial ...</td>\n",
       "      <td>Analyst/Advisor, Training</td>\n",
       "    </tr>\n",
       "  </tbody>\n",
       "</table>\n",
       "</div>"
      ],
      "text/plain": [
       "                                            features  \\\n",
       "0  hr advisors (us)human resourceshr advisor, tra...   \n",
       "1  hr advisorshuman resourcessr tech training & c...   \n",
       "2      hr advisorshuman resourcessr training advisor   \n",
       "3  hr advisorshuman resourcesoperations training ...   \n",
       "4  hr advisorshuman resourcesretail & commercial ...   \n",
       "\n",
       "                      labels  \n",
       "0  Analyst/Advisor, Training  \n",
       "1  Analyst/Advisor, Training  \n",
       "2  Analyst/Advisor, Training  \n",
       "3  Analyst/Advisor, Training  \n",
       "4  Analyst/Advisor, Training  "
      ]
     },
     "execution_count": 4,
     "metadata": {},
     "output_type": "execute_result"
    }
   ],
   "source": [
    "dfa.head()"
   ]
  },
  {
   "cell_type": "code",
   "execution_count": 13,
   "metadata": {},
   "outputs": [],
   "source": [
    "vec=TfidfVectorizer()\n",
    "\n",
    "d=vec.fit_transform(dfa['features'])"
   ]
  },
  {
   "cell_type": "code",
   "execution_count": 3,
   "metadata": {
    "scrolled": true
   },
   "outputs": [
    {
     "name": "stdout",
     "output_type": "stream",
     "text": [
      "Total Length: 104\n",
      "Total Length after removing NA: 104\n",
      "unique Length: 71\n",
      "max word count 9\n",
      "min word count 4\n",
      "max word count 6.278846153846154\n",
      "average character count 66\n",
      "min character count 38\n",
      "Total Stop Words 0\n",
      "Total special_character 17\n",
      "Total numbers 0\n",
      "Total upprdata['data']se 140\n",
      "\n",
      "\n",
      "Common words and count:\n",
      " HR               129\n",
      "AdvisorsHuman     71\n",
      "ResourcesHR       42\n",
      "Advisor,          31\n",
      "ResourcesSr       27\n",
      "Analyst,          20\n",
      "Advisors          19\n",
      "&                 17\n",
      "ResourcesMgr,     15\n",
      "Payroll           13\n",
      "dtype: int64 \n",
      "\n",
      "\n",
      "\n",
      "\n",
      "rare words and count:\n",
      " Nurse,                   1\n",
      "(IN)Human                1\n",
      "China                    1\n",
      "Disability               1\n",
      "Pacific                  1\n",
      "HCR                      1\n",
      "ResourcesOccupational    1\n",
      "Serv                     1\n",
      "Factors                  1\n",
      "Operations               1\n",
      "dtype: int64 \n",
      "\n",
      "\n"
     ]
    }
   ],
   "source": [
    "data['data']= data[['Job Family','Functional Area','Position #']].apply(lambda x: ''.join(x), axis=1)\n",
    "print(\"Total Length:\",len(data['data']))\n",
    "data['data']=data['data'].dropna()\n",
    "print(\"Total Length after removing NA:\",len(data['data']))\n",
    "print(\"unique Length:\",len(set(data['data'])))\n",
    "\n",
    "word_count = data['data'].apply(lambda x: len(str(x).split(\" \")))\n",
    "print(\"max word count\",max(word_count))\n",
    "print(\"min word count\",min(word_count))\n",
    "print(\"max word count\",sum(word_count)/len(word_count))\n",
    "print(\"average character count\",max(data['data'].str.len()))\n",
    "print(\"min character count\",min(data['data'].str.len()))\n",
    "stop_words= data['data'].apply(lambda x: len([x for x in x.split() if x in stop]))\n",
    "print(\"Total Stop Words\",sum(stop_words))\n",
    "special_character = data['data'].apply(lambda x: len([x for x in x.split() if x in ('&','@','#','$','%','!')]))\n",
    "print(\"Total special_character\",sum(special_character))\n",
    "numerics = data['data'].apply(lambda x: len([x for x in x.split() if x.isdigit()]))\n",
    "print(\"Total numbers\",sum(numerics))\n",
    "upper = data['data'].apply(lambda x: len([x for x in x.split() if x.isupper()]))\n",
    "print(\"Total upprdata['data']se\",sum(upper))\n",
    "\n",
    "#data['data'] = data['data'].apply(lambda x: \" \".join(x.lower() for x in x.split()))\n",
    "#data['data'] = data['data'].str.replace('[^\\w\\s]','')\n",
    "#data['data'] = data['data'].apply(lambda x: \" \".join(x for x in x.split() if x not in stop))\n",
    "\n",
    "cfreq = pd.Series(' '.join(data['data']).split()).value_counts()[:10]\n",
    "print(\"\\n\\nCommon words and count:\\n\",cfreq,'\\n\\n')\n",
    "rfreq = pd.Series(' '.join(data['data']).split()).value_counts()[-10:]\n",
    "print(\"\\n\\nrare words and count:\\n\",rfreq,'\\n\\n')\n",
    "\n",
    "data['data']=data['data'].apply(lambda x: \" \".join(x for x in x.split() if x not in rfreq))\n",
    "#data['data'] =data['data'].apply(lambda x: \" \".join[Word(word).lemmatize() for word in x.split()])\n",
    "####\n"
   ]
  },
  {
   "cell_type": "code",
   "execution_count": 14,
   "metadata": {},
   "outputs": [],
   "source": [
    "\n",
    "from sklearn.externals import joblib\n",
    "train=dfa.sample(frac=0.8,random_state=200)\n",
    "test=dfa.drop(train.index)\n",
    "\n",
    "train_X = train['features']\n",
    "train_Y = train['labels']\n",
    "test_X =  test ['features']\n",
    "test_Y =  test['labels']\n",
    "\n",
    "\n"
   ]
  },
  {
   "cell_type": "code",
   "execution_count": 15,
   "metadata": {},
   "outputs": [
    {
     "name": "stdout",
     "output_type": "stream",
     "text": [
      "499 125\n",
      "26\n"
     ]
    }
   ],
   "source": [
    "print(len(train_X),len(test_X))\n",
    "\n",
    "print(len(set(dfa['labels'])))"
   ]
  },
  {
   "cell_type": "code",
   "execution_count": 16,
   "metadata": {},
   "outputs": [
    {
     "name": "stdout",
     "output_type": "stream",
     "text": [
      "********** Test data results ***************\n",
      "accuracy 0.944\n",
      "********** Train data results ***************\n",
      "accuracy 0.9959919839679359\n"
     ]
    },
    {
     "name": "stderr",
     "output_type": "stream",
     "text": [
      "c:\\users\\r.hrudesh.malakwade\\appdata\\local\\programs\\python\\python36\\lib\\site-packages\\sklearn\\linear_model\\stochastic_gradient.py:128: FutureWarning: max_iter and tol parameters have been added in <class 'sklearn.linear_model.stochastic_gradient.SGDClassifier'> in 0.19. If both are left unset, they default to max_iter=5 and tol=None. If tol is not None, max_iter defaults to max_iter=1000. From 0.21, default max_iter will be 1000, and default tol will be 1e-3.\n",
      "  \"and default tol will be 1e-3.\" % type(self), FutureWarning)\n"
     ]
    }
   ],
   "source": [
    "logreg = Pipeline([('vect', CountVectorizer()),\n",
    "                ('tfidf', TfidfTransformer()),\n",
    "                ('clf', SGDClassifier(loss=\"log\")),\n",
    "               ])\n",
    "print ('********** Test data results ***************')\n",
    "logreg.fit(train_X, train_Y)\n",
    "y_pred = logreg.predict(test_X)\n",
    "print('accuracy %s' % accuracy_score(y_pred, test_Y))\n",
    "print ('********** Train data results ***************')\n",
    "y_pred = logreg.predict(train_X)\n",
    "print('accuracy %s' % accuracy_score(y_pred, train_Y))\n",
    "#print(classification_report(test_Y, y_pred))\n",
    "\n"
   ]
  },
  {
   "cell_type": "code",
   "execution_count": 298,
   "metadata": {},
   "outputs": [
    {
     "name": "stdout",
     "output_type": "stream",
     "text": [
      "['HR Analyst/Advisor, Payroll']\n",
      "0.501714033928496\n"
     ]
    }
   ],
   "source": [
    "print(logreg.predict([\"human resource analyst\"]))\n",
    "print(np.max(logreg.predict_proba([\"human resource analyst\"])))"
   ]
  },
  {
   "cell_type": "code",
   "execution_count": 275,
   "metadata": {},
   "outputs": [
    {
     "data": {
      "text/plain": [
       "['Operations.model']"
      ]
     },
     "execution_count": 275,
     "metadata": {},
     "output_type": "execute_result"
    }
   ],
   "source": [
    "joblib.dump(logreg,'Operations.model')"
   ]
  },
  {
   "cell_type": "code",
   "execution_count": 276,
   "metadata": {},
   "outputs": [
    {
     "name": "stdout",
     "output_type": "stream",
     "text": [
      "********** Test data results ***************\n",
      "accuracy 0.9882121807465619\n",
      "********** Train data results ***************\n",
      "accuracy 0.9965601965601966\n"
     ]
    }
   ],
   "source": [
    "logreg1 = Pipeline([('vect', CountVectorizer()),\n",
    "                ('tfidf', TfidfTransformer()),\n",
    "                ('clf', RandomForestClassifier(n_estimators=300,max_depth=500)),\n",
    "               ])\n",
    "print ('********** Test data results ***************')\n",
    "logreg1.fit(train_X, train_Y)\n",
    "y_pred = logreg1.predict(test_X)\n",
    "print('accuracy %s' % accuracy_score(y_pred, test_Y))\n",
    "print ('********** Train data results ***************')\n",
    "y_pred = logreg.predict(train_X)\n",
    "print('accuracy %s' % accuracy_score(y_pred, train_Y))"
   ]
  },
  {
   "cell_type": "code",
   "execution_count": 277,
   "metadata": {},
   "outputs": [
    {
     "name": "stdout",
     "output_type": "stream",
     "text": [
      "['Logistics Analyst']\n",
      "0.6666666666666666\n"
     ]
    }
   ],
   "source": [
    "print(logreg1.predict([\"Benefits Analyst\"]))\n",
    "print(np.max(logreg1.predict_proba([\"Benefits Analyst\"])))"
   ]
  },
  {
   "cell_type": "code",
   "execution_count": null,
   "metadata": {},
   "outputs": [],
   "source": [
    "profiles\n",
    "structured\n",
    "doc2vec\n",
    "meanshift clustering\n",
    "kmean clustering\n",
    "downloaded \n",
    "\n",
    "classification model\n",
    "fit\n",
    "(model)new version model (model name/ download for model,stats)\n",
    "\n",
    "\n",
    "model change API\n",
    "\n",
    "\n",
    "UPload\n",
    "\n",
    "classification model\n",
    "fit\n",
    "(model)new version model (model name/ download for model,stats)\n",
    "\n",
    "\n",
    "model change API\n",
    "\n",
    "\n"
   ]
  },
  {
   "cell_type": "code",
   "execution_count": null,
   "metadata": {},
   "outputs": [],
   "source": []
  }
 ],
 "metadata": {
  "kernelspec": {
   "display_name": "Python 3",
   "language": "python",
   "name": "python3"
  },
  "language_info": {
   "codemirror_mode": {
    "name": "ipython",
    "version": 3
   },
   "file_extension": ".py",
   "mimetype": "text/x-python",
   "name": "python",
   "nbconvert_exporter": "python",
   "pygments_lexer": "ipython3",
   "version": "3.7.0"
  }
 },
 "nbformat": 4,
 "nbformat_minor": 2
}

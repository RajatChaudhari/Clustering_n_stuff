{
 "cells": [
  {
   "cell_type": "code",
   "execution_count": 1,
   "metadata": {},
   "outputs": [
    {
     "name": "stderr",
     "output_type": "stream",
     "text": [
      "C:\\D\\Installation\\Anaconda3\\lib\\site-packages\\sklearn\\ensemble\\weight_boosting.py:29: DeprecationWarning: numpy.core.umath_tests is an internal NumPy module and should not be imported. It will be removed in a future NumPy release.\n",
      "  from numpy.core.umath_tests import inner1d\n"
     ]
    }
   ],
   "source": [
    "from pandas import DataFrame, ExcelFile, read_csv, read_excel \n",
    "from sklearn.svm import SVC\n",
    "from nltk.corpus import stopwords\n",
    "from sklearn.model_selection import train_test_split, StratifiedKFold, GridSearchCV\n",
    "from nltk.tokenize import word_tokenize\n",
    "from sklearn.feature_extraction.text import TfidfVectorizer\n",
    "from sklearn.ensemble import RandomForestClassifier\n",
    "from sklearn.metrics import confusion_matrix, f1_score, make_scorer\n",
    "from sklearn.externals import joblib\n",
    "import datetime"
   ]
  },
  {
   "cell_type": "code",
   "execution_count": 37,
   "metadata": {},
   "outputs": [],
   "source": [
    "path = 'Notebooks/husky/database/2016 - 2018 Taleo Job Postings - Updated.xlsx'\n",
    "xls = ExcelFile(path, sep = ';', encoding = 'utf-8')\n",
    "df = read_excel(xls, 'All')"
   ]
  },
  {
   "cell_type": "code",
   "execution_count": 38,
   "metadata": {},
   "outputs": [],
   "source": [
    "qualifications_external = DataFrame(df[['Qualifications - External']])\n",
    "qualifications_external.dropna(inplace=True)"
   ]
  },
  {
   "cell_type": "code",
   "execution_count": 39,
   "metadata": {},
   "outputs": [],
   "source": [
    "#TODO: find a better split than ' - ' because of cases like '2 - 4 years in a directly related position.(Asset)', \n",
    "#yet similar cases like '4 – 6 years commercial experience (asset).' has a bigger hyphen. \n",
    "#The similar cases appear way more than the first one.\n",
    "\n",
    "all_values = [value.replace('\\xa0', '').lower().strip() for row in qualifications_external.values for value in ''.join(row).split(' - ')[1:]]"
   ]
  },
  {
   "cell_type": "code",
   "execution_count": 40,
   "metadata": {},
   "outputs": [],
   "source": [
    "#build the classifier"
   ]
  },
  {
   "cell_type": "code",
   "execution_count": 41,
   "metadata": {},
   "outputs": [],
   "source": [
    "    def transform_data_to_tfidf(texts, tfidf_model):\n",
    "        strs = []\n",
    "        for text in texts:\n",
    "            stra = tokenize_text(text)\n",
    "            stra = ' '.join(stra)\n",
    "            strs.append(stra)\n",
    "        response = tfidf_model.transform(strs)\n",
    "        return response"
   ]
  },
  {
   "cell_type": "code",
   "execution_count": 42,
   "metadata": {},
   "outputs": [],
   "source": [
    "    def get_bow(tokenized_texts):\n",
    "        bow = []\n",
    "        for tokenized_text in tokenized_texts:\n",
    "            bow.extend(tokenized_text)\n",
    "        return bow"
   ]
  },
  {
   "cell_type": "code",
   "execution_count": 43,
   "metadata": {},
   "outputs": [],
   "source": [
    "    def tokenize_text(text):\n",
    "        return word_tokenize(text)"
   ]
  },
  {
   "cell_type": "code",
   "execution_count": 44,
   "metadata": {},
   "outputs": [],
   "source": [
    "    def get_tf_idf_model(train_X, stopwords):\n",
    "        tokenized_texts = [tokenize_text(text) for text in train_X]\n",
    "        bow = get_bow(tokenized_texts)\n",
    "        tfidf = TfidfVectorizer(tokenizer=tokenize_text, stop_words=stopwords)\n",
    "        tfs = tfidf.fit_transform(bow)\n",
    "        return tfidf"
   ]
  },
  {
   "cell_type": "code",
   "execution_count": 45,
   "metadata": {},
   "outputs": [],
   "source": [
    "    def generating_stratified_k_folds(X, y, n_folds, stopwords_):\n",
    "        skf = StratifiedKFold(n_splits=n_folds, random_state=0)\n",
    "        k_folds = []\n",
    "        for train, test in skf.split(X, y):\n",
    "            train_x = [X[i] for i in train]\n",
    "            test_x = [X[i] for i in test]\n",
    "\n",
    "            tfidf = get_tf_idf_model(train_x, stopwords_)\n",
    "            #joblib.dump(tfidf, 'tfidf'+self.time_of_training_+'.pkl')\n",
    "\n",
    "            train_x = transform_data_to_tfidf(train_x, tfidf)\n",
    "            test_x = transform_data_to_tfidf(test_x, tfidf)\n",
    "\n",
    "            train_y = [y[i] for i in train]\n",
    "            test_y = [y[i] for i in test]\n",
    "\n",
    "            k_folds.append([train_x, train_y, test_x, test_y])\n",
    "            break\n",
    "        return tfidf, k_folds"
   ]
  },
  {
   "cell_type": "code",
   "execution_count": 46,
   "metadata": {},
   "outputs": [],
   "source": [
    "total = read_csv('Notebooks/husky/database/mais_completo/total_jp.csv', sep=';', encoding='utf-8', usecols=['CA', 'CP', 'EI', 'ER', 'TS'])\n",
    "\n",
    "examples = dict()\n",
    "\n",
    "for column in total.columns:\n",
    "    selected_column = DataFrame(total[[column]])\n",
    "    selected_column.dropna(inplace=True)\n",
    "    column_values = [value.lower().strip() for row in selected_column.values for value in ''.join(row).split('$$$%%%&&&')]\n",
    "    examples[column] = column_values\n",
    "    \n",
    "X = []\n",
    "y = []\n",
    "\n",
    "for key, values in examples.items():\n",
    "    for value in values:\n",
    "        X.append(value)\n",
    "        y.append(key)"
   ]
  },
  {
   "cell_type": "code",
   "execution_count": 47,
   "metadata": {},
   "outputs": [],
   "source": [
    "en_stopwords = stopwords.words('english')\n",
    "tfidfmodel, kfolds = generating_stratified_k_folds(X, y, 5, en_stopwords)"
   ]
  },
  {
   "cell_type": "code",
   "execution_count": 48,
   "metadata": {},
   "outputs": [],
   "source": [
    "#tuned_parameters = {'n_estimators':[50, 200], 'criterion':['gini', 'entropy'],\n",
    "#                    'class_weight': ['balanced', 'balanced_subsample' or None]}\n",
    "#clf = GridSearchCV(RandomForestClassifier(random_state = 12), tuned_parameters, cv=5, return_train_score=True)\n",
    "#model = clf.fit(kfolds[0][0], kfolds[0][1])"
   ]
  },
  {
   "cell_type": "code",
   "execution_count": 50,
   "metadata": {},
   "outputs": [
    {
     "name": "stdout",
     "output_type": "stream",
     "text": [
      "['CA' 'CP' 'EI' 'ER' 'TS']\n"
     ]
    },
    {
     "data": {
      "text/plain": [
       "array([[ 539,    9,    3,    5,    4],\n",
       "       [  46,  810,    0,    2,   25],\n",
       "       [   0,    0,  483,   52,    7],\n",
       "       [   5,    3,   87,  984,   78],\n",
       "       [  10,   14,   31,  146, 2056]], dtype=int64)"
      ]
     },
     "execution_count": 50,
     "metadata": {},
     "output_type": "execute_result"
    }
   ],
   "source": [
    "tuned_parameters = {'n_estimators':[50]}\n",
    "clf = GridSearchCV(RandomForestClassifier(random_state = 12), tuned_parameters, cv=5, return_train_score=True)\n",
    "model = clf.fit(kfolds[0][0], kfolds[0][1])\n",
    "print(model.classes_)\n",
    "confusion_matrix(model.predict(kfolds[0][2]), kfolds[0][3])"
   ]
  },
  {
   "cell_type": "code",
   "execution_count": 51,
   "metadata": {},
   "outputs": [
    {
     "name": "stdout",
     "output_type": "stream",
     "text": [
      "(21592, 5710)\n"
     ]
    },
    {
     "data": {
      "text/plain": [
       "array([[2375,   28,    0,    0,    2],\n",
       "       [  19, 3307,    3,    7,   15],\n",
       "       [   0,    1, 2358,   39,    8],\n",
       "       [   1,    1,   37, 4605,   63],\n",
       "       [   4,    6,   18,  105, 8590]], dtype=int64)"
      ]
     },
     "execution_count": 51,
     "metadata": {},
     "output_type": "execute_result"
    }
   ],
   "source": [
    "print((kfolds[0][0]).shape)\n",
    "confusion_matrix(model.predict(kfolds[0][0]), kfolds[0][1])"
   ]
  },
  {
   "cell_type": "code",
   "execution_count": 52,
   "metadata": {},
   "outputs": [
    {
     "data": {
      "text/plain": [
       "['tfidf_model2019-01-31 162010.669333.pkl']"
      ]
     },
     "execution_count": 52,
     "metadata": {},
     "output_type": "execute_result"
    }
   ],
   "source": [
    "time_of_training_ = (str(datetime.datetime.now().date()) + \" \" + str(datetime.datetime.now().time())).replace(':', '')\n",
    "joblib.dump(model, 'classificador_secao_'+time_of_training_+'.pkl')\n",
    "joblib.dump(tfidfmodel, 'tfidf_model'+time_of_training_+'.pkl')"
   ]
  },
  {
   "cell_type": "code",
   "execution_count": 121,
   "metadata": {
    "scrolled": true
   },
   "outputs": [
    {
     "data": {
      "text/plain": [
       "array([[ 260,   10,    2,    0,    0,    1],\n",
       "       [  31,  381,    0,    1,    2,   10],\n",
       "       [   0,    0,  231,   27,    8,    1],\n",
       "       [   0,    0,   51,  493,   30,    2],\n",
       "       [   1,   10,   14,   63, 1028,   27],\n",
       "       [   8,   17,    4,   11,   17, 1992]], dtype=int64)"
      ]
     },
     "execution_count": 121,
     "metadata": {},
     "output_type": "execute_result"
    }
   ],
   "source": [
    "#rfc = RandomForestClassifier(n_estimators=50, random_state=12)\n",
    "#rfc.fit(kfolds[0][0], kfolds[0][1])\n",
    "#conf_matrix = confusion_matrix(rfc.predict(kfolds[0][2]), kfolds[0][3])\n",
    "#conf_matrix"
   ]
  },
  {
   "cell_type": "code",
   "execution_count": 156,
   "metadata": {},
   "outputs": [
    {
     "name": "stdout",
     "output_type": "stream",
     "text": [
      "[('bs in chemical engineering, environmental engineering or other technical degree', 'CA'), ('minimum of 2 years of experience as an environmental engineer/specialist', 'ER'), ('proficient in use of excel, word and air services', 'TS'), ('ability to negotiate with regulatory agencies assets:', 'TS'), (\"master's degree in engineering or mba\", 'CA'), ('professional engineers license', 'CP'), ('minimum of 2 years environmental experience in the petrochemical industry', 'EI'), ('or other relevant experience the lima refining company is an equal opportunity employer. all qualified applicants will receive consideration for employment without regard to race, color, religion, sex national origin, veteran status, disability, sexual orientation or gender identity.', 'ER'), (\"bachelor's degree in engineering\", 'CA'), ('professional engineer (p.eng)', 'CP'), ('specialization in engineering, process or mechanical engineering preferred', 'CA'), ('strong knowledge of capital afes and project delivery models', 'TS'), ('relevant experience in capital project management is required', 'ER'), ('understanding of downstream operations within oil and gas industry would be an asset', 'EI'), ('strong computer skills and expertise with ms office tools', 'TS'), ('excellent oral and written communication skills', 'TS'), ('strong analytical and problem solving skills', 'TS'), ('strong financial acumen', 'TS'), ('working knowledge of sap and/or other reporting systems would be an asset', 'TS'), ('travel for this position would be up to 25% of the time  husky energy is an equal opportunity employer. we are committed to a diverse workforce and a respectful work environment. we value diversity of expertise, talent and opinion which is leveraged for an innovative and productive work environment. we are focused on attracting and retaining the best talent by encouraging applications from all qualified individuals including visible minorities, aboriginal people, women and people with disabilities.', 'TS')]\n"
     ]
    }
   ],
   "source": [
    "taleo_tests = all_values[0:20]\n",
    "\n",
    "taleo_tfidf = transform_data_to_tfidf(taleo_tests, tfidfmodel)\n",
    "print([(item, predicted_class) for item, predicted_class in zip(taleo_tests, model.predict(taleo_tfidf))])"
   ]
  },
  {
   "cell_type": "code",
   "execution_count": 61,
   "metadata": {},
   "outputs": [
    {
     "name": "stdout",
     "output_type": "stream",
     "text": [
      "('bachelors degree in human resources', 'CA')\n"
     ]
    }
   ],
   "source": [
    "path = 'Cleansed Content Taleo Format.xlsx'\n",
    "xls = ExcelFile(path, sep = ';', encoding = 'utf-8')\n",
    "df = read_excel(xls, 'Sheet1')\n",
    "qualifications_external = DataFrame(df[['Qualifications - External']])\n",
    "qualifications_external.dropna(inplace=True)\n",
    "all_values = [value.replace('\\xa0', '').lower().strip() for row in qualifications_external.values for value in ''.join(row).split('\\n')[1:]]\n",
    "\n",
    "taleo_tfidf = transform_data_to_tfidf(all_values, tfidfmodel)\n",
    "sd=[(item, predicted_class) for item, predicted_class in zip(all_values, model.predict(taleo_tfidf))]\n",
    "\n",
    "\n",
    "\n",
    "\n",
    "\n",
    "print(sd[4])"
   ]
  },
  {
   "cell_type": "code",
   "execution_count": 68,
   "metadata": {},
   "outputs": [
    {
     "name": "stdout",
     "output_type": "stream",
     "text": [
      "92\n",
      "83\n",
      "34\n",
      "132\n",
      "19\n",
      "                                                    CA  \\\n",
      "0                                      doctoral degree   \n",
      "1                   masters of business administration   \n",
      "2                  bachelors degree in human resources   \n",
      "3                                bachelors of commerce   \n",
      "4                       certificate in adult education   \n",
      "5       bachelors degree in organizational development   \n",
      "6                    post-secondary degree in business   \n",
      "7                       bachelors degree in psychology   \n",
      "8                  bachelors degree in social sciences   \n",
      "9                                diploma in psychology   \n",
      "10                          diploma in social sciences   \n",
      "11                              bachelors of education   \n",
      "12                      bachelors degree in accounting   \n",
      "13                         bachelors degree in finance   \n",
      "14                        masters degree in accounting   \n",
      "15                           masters degree in finance   \n",
      "16                                  diploma in finance   \n",
      "17                       bachelors degree in logistics   \n",
      "18                             bachelors degree in law   \n",
      "19   canadian association of petroleum land adminis...   \n",
      "20                       bachelors degree in marketing   \n",
      "21                  bachelors degree in communications   \n",
      "22                  bachelor of science in engineering   \n",
      "23                               diploma in accounting   \n",
      "24                                 diploma in business   \n",
      "25               diploma in instrumentation technology   \n",
      "26                       general education development   \n",
      "27                                 bachelor of science   \n",
      "28                 maintenance management professional   \n",
      "29                        diploma in power engineering   \n",
      "..                                                 ...   \n",
      "102                                              Ragav   \n",
      "103                                              Ragav   \n",
      "104                                              Ragav   \n",
      "105                                              Ragav   \n",
      "106                                              Ragav   \n",
      "107                                              Ragav   \n",
      "108                                              Ragav   \n",
      "109                                              Ragav   \n",
      "110                                              Ragav   \n",
      "111                                              Ragav   \n",
      "112                                              Ragav   \n",
      "113                                              Ragav   \n",
      "114                                              Ragav   \n",
      "115                                              Ragav   \n",
      "116                                              Ragav   \n",
      "117                                              Ragav   \n",
      "118                                              Ragav   \n",
      "119                                              Ragav   \n",
      "120                                              Ragav   \n",
      "121                                              Ragav   \n",
      "122                                              Ragav   \n",
      "123                                              Ragav   \n",
      "124                                              Ragav   \n",
      "125                                              Ragav   \n",
      "126                                              Ragav   \n",
      "127                                              Ragav   \n",
      "128                                              Ragav   \n",
      "129                                              Ragav   \n",
      "130                                              Ragav   \n",
      "131                                              Ragav   \n",
      "\n",
      "                                                    CP  \\\n",
      "0                      project management professional   \n",
      "1                                 chartered accountant   \n",
      "2               chartered human resources professional   \n",
      "3    experience working in a corporate training fun...   \n",
      "4                   canadian compensation professional   \n",
      "5                      payroll compliance practitioner   \n",
      "6        registered professional recruiter designation   \n",
      "7                certified employee benefit specialist   \n",
      "8                             certified public manager   \n",
      "9             certified business analysis professional   \n",
      "10                     certified management accountant   \n",
      "11                      chartered financial accountant   \n",
      "12         canadian institute of chartered accountants   \n",
      "13                certified control systems technician   \n",
      "14               certified hazardous materials manager   \n",
      "15   canadian association of petroleum production a...   \n",
      "16                                 journeyman - trades   \n",
      "17                              agrologist in training   \n",
      "18                    registered environmental manager   \n",
      "19                qualified environmental professional   \n",
      "20                      certified industrial hygienist   \n",
      "21             canadian registered safety professional   \n",
      "22                             journeyman - electrical   \n",
      "23                        journeyman - instrumentation   \n",
      "24                   registered occupational hygienist   \n",
      "25                                technical agrologist   \n",
      "26   certified maintenance and reliability professi...   \n",
      "27            interprovincial electrical certification   \n",
      "28                   chartered professional accountant   \n",
      "29                         chartered financial analyst   \n",
      "..                                                 ...   \n",
      "102                                              Ragav   \n",
      "103                                              Ragav   \n",
      "104                                              Ragav   \n",
      "105                                              Ragav   \n",
      "106                                              Ragav   \n",
      "107                                              Ragav   \n",
      "108                                              Ragav   \n",
      "109                                              Ragav   \n",
      "110                                              Ragav   \n",
      "111                                              Ragav   \n",
      "112                                              Ragav   \n",
      "113                                              Ragav   \n",
      "114                                              Ragav   \n",
      "115                                              Ragav   \n",
      "116                                              Ragav   \n",
      "117                                              Ragav   \n",
      "118                                              Ragav   \n",
      "119                                              Ragav   \n",
      "120                                              Ragav   \n",
      "121                                              Ragav   \n",
      "122                                              Ragav   \n",
      "123                                              Ragav   \n",
      "124                                              Ragav   \n",
      "125                                              Ragav   \n",
      "126                                              Ragav   \n",
      "127                                              Ragav   \n",
      "128                                              Ragav   \n",
      "129                                              Ragav   \n",
      "130                                              Ragav   \n",
      "131                                              Ragav   \n",
      "\n",
      "                                                    EI  \\\n",
      "0      experience in the upstream oil and gas industry   \n",
      "1    experience in the downstream oil and gas industry   \n",
      "2         experience with light or heavy oil marketing   \n",
      "3              experience with light or heavy oil sale   \n",
      "4       experience in the downstream refining industry   \n",
      "5            experience in petroleum bi-products sales   \n",
      "6    experience in an operations support function w...   \n",
      "7                       experience with oil processing   \n",
      "8               experience in the oil and gas industry   \n",
      "9                     experience in a thermal facility   \n",
      "10   experience working in electrically classified ...   \n",
      "11                   experience in refinery operations   \n",
      "12   experience with oil and gas operational accoun...   \n",
      "13                         experience with completions   \n",
      "14                    experience in a refinery setting   \n",
      "15   experience with safe work practices in the oil...   \n",
      "16     experience in the upstream oil and gas industry   \n",
      "17   experience in the downstream oil and gas industry   \n",
      "18      experience in the downstream refining industry   \n",
      "19   progressive experience working in an engineeri...   \n",
      "20   progressive experience in the oil and gas indu...   \n",
      "21   experience in an ethanol refinery or industry ...   \n",
      "22   progressive experience in oil and gas plant ma...   \n",
      "23   experience in an industrial maintenance settin...   \n",
      "24                     experience in the sagd industry   \n",
      "25   experience in an operations function involving...   \n",
      "26   progressive experience in the oil and gas indu...   \n",
      "27   experience in an ethanol refinery or industry ...   \n",
      "28   progressive experience in oil and gas plant ma...   \n",
      "29   experience in an industrial maintenance settin...   \n",
      "..                                                 ...   \n",
      "102                                              Ragav   \n",
      "103                                              Ragav   \n",
      "104                                              Ragav   \n",
      "105                                              Ragav   \n",
      "106                                              Ragav   \n",
      "107                                              Ragav   \n",
      "108                                              Ragav   \n",
      "109                                              Ragav   \n",
      "110                                              Ragav   \n",
      "111                                              Ragav   \n",
      "112                                              Ragav   \n",
      "113                                              Ragav   \n",
      "114                                              Ragav   \n",
      "115                                              Ragav   \n",
      "116                                              Ragav   \n",
      "117                                              Ragav   \n",
      "118                                              Ragav   \n",
      "119                                              Ragav   \n",
      "120                                              Ragav   \n",
      "121                                              Ragav   \n",
      "122                                              Ragav   \n",
      "123                                              Ragav   \n",
      "124                                              Ragav   \n",
      "125                                              Ragav   \n",
      "126                                              Ragav   \n",
      "127                                              Ragav   \n",
      "128                                              Ragav   \n",
      "129                                              Ragav   \n",
      "130                                              Ragav   \n",
      "131                                              Ragav   \n",
      "\n",
      "                                                    ER  \\\n",
      "0                        experience in human resources   \n",
      "1                           experience with leadership   \n",
      "2                experience in a large, public company   \n",
      "3                             experience with benefits   \n",
      "4    experience with an integrated financial and pa...   \n",
      "5    experience working in a talent acquisition fun...   \n",
      "6    experience in a human resources analytics func...   \n",
      "7                                experience in payroll   \n",
      "8              experience with diversity and inclusion   \n",
      "9       experience with human resources administration   \n",
      "10                 experience with workforce analytics   \n",
      "11                    experience as a business partner   \n",
      "12   experience working with an integrated human re...   \n",
      "13   experience in an integrated talent management ...   \n",
      "14   experience with developing a human resources s...   \n",
      "15          experience as a human resources generalist   \n",
      "16   experience with a unionized manufacturing envi...   \n",
      "17                            experience in accounting   \n",
      "18                  experience in petrochemicals sales   \n",
      "19   experience with managing regulated compliance ...   \n",
      "20         experience in hydrocarbon supply operations   \n",
      "21   experience with wholesale or petroleum product...   \n",
      "22                    experience with operations sales   \n",
      "23                     experience with cash management   \n",
      "24                experience with bank reconciliations   \n",
      "25   experience with communications for project and...   \n",
      "26                      experience in accounts payable   \n",
      "27   experience in preparing project and work sched...   \n",
      "28   experience with the purchasing functions withi...   \n",
      "29                         production field operations   \n",
      "..                                                 ...   \n",
      "102            experience in an agile work environment   \n",
      "103             experience as a database administrator   \n",
      "104     progressive experience as a solution architect   \n",
      "105  progressive experience as an enterprise architect   \n",
      "106                     experience as a test automater   \n",
      "107  experience preparing and communicating project...   \n",
      "108               experience in a supervisory function   \n",
      "109                              leadership experience   \n",
      "110     progressive experience in maintenance planning   \n",
      "111  experience in an operations function within a ...   \n",
      "112  experience in a process operating function in ...   \n",
      "113               experience in a maintenance function   \n",
      "114               experience in arriba implementations   \n",
      "115  experience working in a pipeline systems groun...   \n",
      "116  experience working on a floating production, s...   \n",
      "117  progressive experience in a maintenance planni...   \n",
      "118  progressive experience in a maintenance planni...   \n",
      "119         progressive experience in spend management   \n",
      "120                              leadership experience   \n",
      "121     progressive experience in maintenance planning   \n",
      "122  experience in an operations function within a ...   \n",
      "123  experience in a process operating function in ...   \n",
      "124               experience in a maintenance function   \n",
      "125  progressive experience in a heavy industrial e...   \n",
      "126  experience working in a pipeline systems groun...   \n",
      "127  experience working on a floating production, s...   \n",
      "128  progressive experience in a maintenance planni...   \n",
      "129                 experience in a laboratory setting   \n",
      "130  progressive experience in a maintenance functi...   \n",
      "131  progressive experience in a 'safe work' permit...   \n",
      "\n",
      "                                                    TS  \n",
      "0     experience with the management of change process  \n",
      "1    experience in processing payables in financial...  \n",
      "2                   experience with marketing analysis  \n",
      "3                    experience with process operating  \n",
      "4                              process hazard analysis  \n",
      "5      certifiedin production and inventory management  \n",
      "6                             canadian risk management  \n",
      "7                               financial risk manager  \n",
      "8                         project management institute  \n",
      "9                   experience with accounting systems  \n",
      "10                experience with engineering software  \n",
      "11   experience with visualization and analytical t...  \n",
      "12                  construction management expecience  \n",
      "13                          managing software projects  \n",
      "14                                sap basis management  \n",
      "15                    progressive experience in sap pm  \n",
      "16         experience in contract lifecycle management  \n",
      "17                   progressive experience in sap scm  \n",
      "18                   experience of contract management  \n",
      "19                                               Ragav  \n",
      "20                                               Ragav  \n",
      "21                                               Ragav  \n",
      "22                                               Ragav  \n",
      "23                                               Ragav  \n",
      "24                                               Ragav  \n",
      "25                                               Ragav  \n",
      "26                                               Ragav  \n",
      "27                                               Ragav  \n",
      "28                                               Ragav  \n",
      "29                                               Ragav  \n",
      "..                                                 ...  \n",
      "102                                              Ragav  \n",
      "103                                              Ragav  \n",
      "104                                              Ragav  \n",
      "105                                              Ragav  \n",
      "106                                              Ragav  \n",
      "107                                              Ragav  \n",
      "108                                              Ragav  \n",
      "109                                              Ragav  \n",
      "110                                              Ragav  \n",
      "111                                              Ragav  \n",
      "112                                              Ragav  \n",
      "113                                              Ragav  \n",
      "114                                              Ragav  \n",
      "115                                              Ragav  \n",
      "116                                              Ragav  \n",
      "117                                              Ragav  \n",
      "118                                              Ragav  \n",
      "119                                              Ragav  \n",
      "120                                              Ragav  \n",
      "121                                              Ragav  \n",
      "122                                              Ragav  \n",
      "123                                              Ragav  \n",
      "124                                              Ragav  \n",
      "125                                              Ragav  \n",
      "126                                              Ragav  \n",
      "127                                              Ragav  \n",
      "128                                              Ragav  \n",
      "129                                              Ragav  \n",
      "130                                              Ragav  \n",
      "131                                              Ragav  \n",
      "\n",
      "[132 rows x 5 columns]\n"
     ]
    }
   ],
   "source": [
    "output_df = DataFrame()\n",
    "ds={\"CA\":[],\"CP\":[],\"EI\":[],\"ER\":[],\"TS\":[]}\n",
    "\n",
    "for i in sd:\n",
    "    ds[i[1]].append(i[0])\n",
    "for i in ds.keys():print(len(ds[i]))\n",
    "\n",
    "for i in ds.keys():\n",
    "    while len(ds[i]) < 132:\n",
    "        ds[i].append(\"Ragav\")\n",
    "#ds\n",
    "output_df = DataFrame(ds)\n",
    "print(output_df)\n",
    "output_df.to_csv(\"\")\n",
    "\n",
    "#output_df[\"CA\"]=ds[\"CA\"]\n",
    "#output_df[\"CP\"]=ds[\"CP\"]\n",
    "    "
   ]
  },
  {
   "cell_type": "code",
   "execution_count": 146,
   "metadata": {},
   "outputs": [
    {
     "data": {
      "text/plain": [
       "array(['CA', 'CP', 'EI', 'ER', 'TS', 'responsabilities'], dtype='<U16')"
      ]
     },
     "execution_count": 146,
     "metadata": {},
     "output_type": "execute_result"
    }
   ],
   "source": [
    "output_df = DataFrame()\n",
    "        #output_df['Position Title'] = getattr(db, 'Requisition Title')\n",
    "        #output_df['Department'] = db['Job Family']\n",
    "        #db['External: Responsibilities'] = db['External: Responsibilities'].fillna('')\n",
    "        #output_df['responsabilities'] = db['External: Responsibilities'].apply(lambda x: '$$$%%%&&&'.join(x.strip().split('-')[1:]) if x else None)\n",
    "        #output_df['POSITION SUMMARY'] = db['Original Description Section - External'] \n",
    "        #output_df['Date Revised'] = db['Req. Creation Date']\n",
    "        #db['Qualifications - External'] = db['Qualifications - External'].fillna('')\n",
    "output_df['CA'] =  db['Qualifications - External'].apply(lambda x: self.categorize_items(x, 'CA'))\n",
    "output_df['CP'] =  db['Qualifications - External'].apply(lambda x: self.categorize_items(x, 'CP'))\n",
    "output_df['EI'] =  db['Qualifications - External'].apply(lambda x: self.categorize_items(x, 'EI'))\n",
    "output_df['ER'] =  db['Qualifications - External'].apply(lambda x: self.categorize_items(x, 'ER'))\n",
    "output_df['TS'] =  db['Qualifications - External'].apply(lambda x: self.categorize_items(x, 'TS'))"
   ]
  }
 ],
 "metadata": {
  "kernelspec": {
   "display_name": "Python 3",
   "language": "python",
   "name": "python3"
  },
  "language_info": {
   "codemirror_mode": {
    "name": "ipython",
    "version": 3
   },
   "file_extension": ".py",
   "mimetype": "text/x-python",
   "name": "python",
   "nbconvert_exporter": "python",
   "pygments_lexer": "ipython3",
   "version": "3.7.0"
  }
 },
 "nbformat": 4,
 "nbformat_minor": 2
}

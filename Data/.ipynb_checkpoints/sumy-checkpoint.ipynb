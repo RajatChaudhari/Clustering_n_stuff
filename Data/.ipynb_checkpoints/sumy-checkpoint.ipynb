{
 "cells": [
  {
   "cell_type": "code",
   "execution_count": null,
   "metadata": {},
   "outputs": [],
   "source": [
    "from sumy.parsers.plaintext import PlaintextParser\n",
    "from sumy.nlp.tokenizers import Tokenizer\n",
    "from sumy.nlp.stemmers import Stemmer\n",
    "from sumy.utils import get_stop_words\n",
    "from sumy.summarizers.text_rank import TextRankSummarizer\n",
    "from sumy.summarizers.lsa import LsaSummarizer\n",
    "#from hana_json_store import hana_connection\n",
    "from gensim.summarization import summarize\n",
    "from nltk import sent_tokenize\n",
    "#from  Dump_to_json_store import hana_connection \n",
    "\n",
    "summary_text=\"In this role, you will be primarily responsible for the preparation of the U.S. tax-financial reporting package in addition to U.S. income tax compliance.One of Husky’s advantages is that we are an integrated oil and gas company. Every year, a significant number of our employees are able to take on new roles within the company thanks to our strong focus on hands-on learning and development^ Husky is currently looking for a U.S. Tax Analyst at its Dublin, Ohio location. Specific responsibilities will include: - Ensure timely and accurate filing of all U.S. Excise Tax returns and U.S. State Sales Tax Returns - Ensure timely and accurate filing of regulatory and industry related compliance such as Sarbanes Oxley and Energy Information Administration - Obtain and maintain current licenses, registrations and bonds as required for Husky to conduct its business activities in the various U.S. jurisdictions and provide exemption certificates when required by Suppliers - Set-up and maintain Excise Tax rules and rates in systems to ensure appropriate charging and collection of Excise Taxes - Set-up and maintain Sales Tax rules and rates in systems to ensure appropriate charging and collection of Sales Taxes - Obtain and maintain current and historic exemption certificates from Husky customers and ensureproper customer set-up and tax treatment in Husky systems and invoices - Monthly accounting reconciliations of Excise Tax G/L accounts including managing adjustments and corrections - Liaise with Husky Canadian Tax Department (Indirect Reporting Responsibility) - Conduct tax research on U.S. tax related matters - Participation in planning and contract/agreement review with respect to U.S. tax issues - Assist in the development of recommendations and implementation plans - Coordination with external advisors and internal departments and business units - Coordinate all U.S. Federal and State Excise Tax audits - Manage and filing of Pollution Control Tax Certificates for capital projects - Manage and coordinate Excise Tax requirements in respect to imports, exports and transportation of raw materials and refined products - Additional general accounting and finance team support as required. Specific responsibilities will include: - Ensure timely and accurate filing of all U.S. Excise Tax returns and U.S. State Sales Tax Returns - Ensure timely and accurate filing of regulatory and industry related compliance such as Sarbanes Oxley and Energy Information Administration - Obtain and maintain current licenses, registrations and bonds as required for Husky to conduct its business activities in the various U.S. jurisdictions and provide exemption certificates when required by Suppliers - Set-up and maintain Excise Tax rules and rates in systems to ensure appropriate charging and collection of Excise Taxes - Set-up and maintain Sales Tax rules and rates in systems to ensure appropriate charging and collection of Sales Taxes - Obtain and maintain current and historic exemption certificates from Husky customers and ensureproper customer set-up and tax treatment in Husky systems and invoices - Monthly accounting reconciliations of Excise Tax G/L accounts including managing adjustments and corrections - Liaise with Husky Canadian Tax Department (Indirect Reporting Responsibility) - Conduct tax research on U.S. tax related matters - Participation in planning and contract/agreement review with respect to U.S. tax issues - Assist in the development of recommendations and implementation plans - Coordination with external advisors and internal departments and business units - Coordinate all U.S. Federal and State Excise Tax audits - Manage and filing of Pollution Control Tax Certificates for capital projects - Manage and coordinate Excise Tax requirements in respect to imports, exports and transportation of raw materials and refined products - Additional general accounting and finance team support as required. Specific responsibilities will include: - Preparation, filing and payment of assigned Commodity Tax returns, including analysis, coding and reconciliation of accounts, maintenance of records and documentation and management of internal and external queries and audits. - Maintain technical knowledge and expertise with respect to the assigned fuel and sales tax functions and provide appropriate tax advice, interpretations and guidance for planning and administering the projects and business activities of Husky.\"\n",
    "\n",
    "number_of_sentences = sent_tokenize(summary_text)\n",
    "print(\"############################################################################\",len(number_of_sentences))\n",
    "#if len(number_of_sentences) <10:  \n",
    "parser = PlaintextParser.from_string(summary_text,Tokenizer(\"english\"))\n",
    "summarizer=TextRankSummarizer()\n",
    "summary=summarizer(parser.document, 5)\n",
    "print(\"Summy function Used\",type(summary))\n",
    "s=[]\n",
    "for i in summary:\n",
    "    print(type(i))\n",
    "    s.append(str(i))\n",
    "#print(\"---------------dasdsadasdasdas\",type(s))\n",
    "print(list(set(s)))\n",
    "#else:\n",
    "#    ss=summarize(summary_text, ratio=0.2)\n",
    "#    print(type(ss),\"-----------------\",ss)\n",
    "#    return ss"
   ]
  }
 ],
 "metadata": {
  "kernelspec": {
   "display_name": "Python 3",
   "language": "python",
   "name": "python3"
  },
  "language_info": {
   "codemirror_mode": {
    "name": "ipython",
    "version": 3
   },
   "file_extension": ".py",
   "mimetype": "text/x-python",
   "name": "python",
   "nbconvert_exporter": "python",
   "pygments_lexer": "ipython3",
   "version": "3.7.0"
  }
 },
 "nbformat": 4,
 "nbformat_minor": 2
}
